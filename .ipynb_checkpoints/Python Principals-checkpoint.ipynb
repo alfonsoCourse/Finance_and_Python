{
 "cells": [
  {
   "cell_type": "code",
   "execution_count": 1,
   "id": "445839b6",
   "metadata": {},
   "outputs": [],
   "source": [
    "# Compounding "
   ]
  },
  {
   "cell_type": "code",
   "execution_count": 2,
   "id": "a198ca29",
   "metadata": {},
   "outputs": [],
   "source": [
    "PresentValue = 100;\n",
    "Rate = 0.03;\n",
    "Periods = 3;\n",
    "FutureValue = 0;"
   ]
  },
  {
   "cell_type": "code",
   "execution_count": 3,
   "id": "1ca475f6",
   "metadata": {
    "scrolled": true
   },
   "outputs": [],
   "source": [
    "FutureValue = float(PresentValue * (1 + Rate)**Periods)"
   ]
  },
  {
   "cell_type": "code",
   "execution_count": 4,
   "id": "1c79b031",
   "metadata": {},
   "outputs": [
    {
     "name": "stdout",
     "output_type": "stream",
     "text": [
      "109.2727\n"
     ]
    }
   ],
   "source": [
    "print(FutureValue)"
   ]
  },
  {
   "cell_type": "code",
   "execution_count": 5,
   "id": "556cab3b",
   "metadata": {},
   "outputs": [],
   "source": [
    " # Discounting future value"
   ]
  },
  {
   "cell_type": "code",
   "execution_count": 6,
   "id": "dc664e52",
   "metadata": {},
   "outputs": [
    {
     "name": "stdout",
     "output_type": "stream",
     "text": [
      "96.3926\n"
     ]
    }
   ],
   "source": [
    "PresentValue = 0;\n",
    "Rate = 0.045;\n",
    "Periods = 3;\n",
    "FutureValue = 110;\n",
    "\n",
    "PresentValue = float(FutureValue/((1+ Rate)**Periods))\n",
    "\n",
    "print(round(PresentValue,4))"
   ]
  },
  {
   "cell_type": "code",
   "execution_count": 7,
   "id": "637402fa",
   "metadata": {},
   "outputs": [],
   "source": [
    "# Interest Rate"
   ]
  },
  {
   "cell_type": "code",
   "execution_count": 8,
   "id": "c68541f0",
   "metadata": {},
   "outputs": [
    {
     "name": "stdout",
     "output_type": "stream",
     "text": [
      "0.0128\n"
     ]
    }
   ],
   "source": [
    "PresentValue = 90;\n",
    "Rate = 0;\n",
    "Periods = 3;\n",
    "FutureValue = 93.5;\n",
    "\n",
    "rate = float((FutureValue/PresentValue)**(1/Periods) - 1)\n",
    "print(round (rate,4))"
   ]
  },
  {
   "cell_type": "code",
   "execution_count": 9,
   "id": "8f494a6d",
   "metadata": {},
   "outputs": [],
   "source": [
    "# Price Return   NEEDS TO BE CHECKED "
   ]
  },
  {
   "cell_type": "code",
   "execution_count": 10,
   "id": "83e608d5",
   "metadata": {},
   "outputs": [
    {
     "name": "stdout",
     "output_type": "stream",
     "text": [
      "0.17\n"
     ]
    }
   ],
   "source": [
    "PeriodReturn= 0;\n",
    "OldPrice = 50;\n",
    "NewPrice = 56.5;\n",
    "Dividends = 2;\n",
    "\n",
    "PeriodReturn = float((((NewPrice-OldPrice + Dividends)/OldPrice)))\n",
    "print(PeriodReturn)"
   ]
  },
  {
   "cell_type": "code",
   "execution_count": 11,
   "id": "c09a749b",
   "metadata": {},
   "outputs": [],
   "source": [
    "#List"
   ]
  },
  {
   "cell_type": "code",
   "execution_count": 12,
   "id": "c3b9bbb7",
   "metadata": {},
   "outputs": [],
   "source": [
    "CashFlow = [100,10,20,50,30,25]"
   ]
  },
  {
   "cell_type": "code",
   "execution_count": 13,
   "id": "697eedba",
   "metadata": {},
   "outputs": [
    {
     "data": {
      "text/plain": [
       "[100, 10, 20, 50, 30, 25]"
      ]
     },
     "execution_count": 13,
     "metadata": {},
     "output_type": "execute_result"
    }
   ],
   "source": [
    "CashFlow"
   ]
  },
  {
   "cell_type": "code",
   "execution_count": 14,
   "id": "f692aea8",
   "metadata": {},
   "outputs": [
    {
     "data": {
      "text/plain": [
       "100"
      ]
     },
     "execution_count": 14,
     "metadata": {},
     "output_type": "execute_result"
    }
   ],
   "source": [
    "CashFlow[0]"
   ]
  },
  {
   "cell_type": "code",
   "execution_count": 15,
   "id": "d602f8a7",
   "metadata": {},
   "outputs": [
    {
     "data": {
      "text/plain": [
       "25"
      ]
     },
     "execution_count": 15,
     "metadata": {},
     "output_type": "execute_result"
    }
   ],
   "source": [
    "CashFlow[-1]"
   ]
  },
  {
   "cell_type": "code",
   "execution_count": 16,
   "id": "81b7291f",
   "metadata": {},
   "outputs": [],
   "source": [
    "#for loop"
   ]
  },
  {
   "cell_type": "code",
   "execution_count": 17,
   "id": "d047a947",
   "metadata": {},
   "outputs": [],
   "source": [
    "#Compound with different income during a period determined by the size of the list "
   ]
  },
  {
   "cell_type": "code",
   "execution_count": 18,
   "id": "2e1ee0b3",
   "metadata": {},
   "outputs": [
    {
     "name": "stdout",
     "output_type": "stream",
     "text": [
      "257.98203553\n"
     ]
    }
   ],
   "source": [
    "rate = 1.03\n",
    "Total = len(CashFlow)\n",
    "Cash = 0 \n",
    "for i in CashFlow:\n",
    "    Total = Total - 1\n",
    "    Cash = (CashFlow[CashFlow.index(i)]*rate**Total) + Cash\n",
    "print(Cash)"
   ]
  },
  {
   "cell_type": "code",
   "execution_count": 19,
   "id": "8ab8a44e",
   "metadata": {},
   "outputs": [],
   "source": [
    "#exchange currency"
   ]
  },
  {
   "cell_type": "code",
   "execution_count": 20,
   "id": "7b4b9e12",
   "metadata": {},
   "outputs": [
    {
     "data": {
      "text/plain": [
       "[86.9565, 8.6957, 17.3913, 43.4783, 26.087, 21.7391]"
      ]
     },
     "execution_count": 20,
     "metadata": {},
     "output_type": "execute_result"
    }
   ],
   "source": [
    "CashFlowEU = []\n",
    "for i in CashFlow:\n",
    "    x = round ((i/1.15),4)\n",
    "    CashFlowEU.append((x))\n",
    "CashFlowEU"
   ]
  },
  {
   "cell_type": "code",
   "execution_count": 21,
   "id": "ad01a97a",
   "metadata": {},
   "outputs": [],
   "source": [
    "#Present Value"
   ]
  },
  {
   "cell_type": "code",
   "execution_count": 22,
   "id": "5e496b92",
   "metadata": {},
   "outputs": [],
   "source": [
    "PV = 0\n",
    "rate = 1.04\n",
    "aim = [50,60,70,80,100]"
   ]
  },
  {
   "cell_type": "code",
   "execution_count": 23,
   "id": "0c000b1f",
   "metadata": {},
   "outputs": [
    {
     "name": "stdout",
     "output_type": "stream",
     "text": [
      "48.07692307692307\n",
      "103.55029585798815\n",
      "165.78004096495218\n",
      "234.16437624733024\n",
      "316.3570869232654\n"
     ]
    }
   ],
   "source": [
    "for i in range((len(aim))):\n",
    "    PV += aim[i]/ rate **(i+1)\n",
    "    print(PV)\n"
   ]
  },
  {
   "cell_type": "code",
   "execution_count": 24,
   "id": "de65f35f",
   "metadata": {},
   "outputs": [],
   "source": [
    "# Net Present Value"
   ]
  },
  {
   "cell_type": "code",
   "execution_count": 25,
   "id": "de194fab",
   "metadata": {},
   "outputs": [],
   "source": [
    "XYZ = [-200,20,50,70,100,50]\n",
    "Initial_Investment = 200\n",
    "rate = 1.06"
   ]
  },
  {
   "cell_type": "code",
   "execution_count": 26,
   "id": "0acf867e",
   "metadata": {},
   "outputs": [
    {
     "name": "stdout",
     "output_type": "stream",
     "text": [
      "38.71337130837991\n"
     ]
    }
   ],
   "source": [
    "NPV = 0\n",
    "for i in range(len(XYZ)):\n",
    "    NPV += (XYZ[i])/ ((rate)**(i))\n",
    "print(NPV)"
   ]
  },
  {
   "cell_type": "code",
   "execution_count": 27,
   "id": "cb062359",
   "metadata": {},
   "outputs": [],
   "source": [
    "XYZ[0]= -250"
   ]
  },
  {
   "cell_type": "code",
   "execution_count": 28,
   "id": "2dc75969",
   "metadata": {},
   "outputs": [
    {
     "name": "stdout",
     "output_type": "stream",
     "text": [
      "-11.286628691620088\n"
     ]
    }
   ],
   "source": [
    "NPV = 0\n",
    "for i in range(len(XYZ)):\n",
    "    NPV += (XYZ[i])/ ((rate)**(i))\n",
    "print(NPV)"
   ]
  },
  {
   "cell_type": "code",
   "execution_count": 29,
   "id": "a6eb410e",
   "metadata": {},
   "outputs": [],
   "source": [
    "#Data types"
   ]
  },
  {
   "cell_type": "code",
   "execution_count": 30,
   "id": "a2d4bb3a",
   "metadata": {},
   "outputs": [
    {
     "data": {
      "text/plain": [
       "int"
      ]
     },
     "execution_count": 30,
     "metadata": {},
     "output_type": "execute_result"
    }
   ],
   "source": [
    "type(100)"
   ]
  },
  {
   "cell_type": "code",
   "execution_count": 31,
   "id": "b0660cf8",
   "metadata": {},
   "outputs": [
    {
     "name": "stdout",
     "output_type": "stream",
     "text": [
      "0.3333333333333333\n"
     ]
    },
    {
     "data": {
      "text/plain": [
       "float"
      ]
     },
     "execution_count": 31,
     "metadata": {},
     "output_type": "execute_result"
    }
   ],
   "source": [
    "float = 1/3\n",
    "print(float)#any decimal number\n",
    "type(float)"
   ]
  },
  {
   "cell_type": "code",
   "execution_count": 32,
   "id": "b0e60eba",
   "metadata": {},
   "outputs": [
    {
     "name": "stdout",
     "output_type": "stream",
     "text": [
      "[0, 1, 2, 3]\n"
     ]
    },
    {
     "data": {
      "text/plain": [
       "list"
      ]
     },
     "execution_count": 32,
     "metadata": {},
     "output_type": "execute_result"
    }
   ],
   "source": [
    "list1 = [0,1,2,3]\n",
    "print(list1)\n",
    "type(list1)"
   ]
  },
  {
   "cell_type": "code",
   "execution_count": 33,
   "id": "85d79f61",
   "metadata": {
    "scrolled": true
   },
   "outputs": [
    {
     "name": "stdout",
     "output_type": "stream",
     "text": [
      "range(1, 10)\n"
     ]
    },
    {
     "data": {
      "text/plain": [
       "range"
      ]
     },
     "execution_count": 33,
     "metadata": {},
     "output_type": "execute_result"
    }
   ],
   "source": [
    "n = range(1,10)\n",
    "print(n)\n",
    "type(n)"
   ]
  },
  {
   "cell_type": "code",
   "execution_count": 34,
   "id": "05a3c953",
   "metadata": {},
   "outputs": [
    {
     "data": {
      "text/plain": [
       "builtin_function_or_method"
      ]
     },
     "execution_count": 34,
     "metadata": {},
     "output_type": "execute_result"
    }
   ],
   "source": [
    "type(print)"
   ]
  },
  {
   "cell_type": "code",
   "execution_count": 35,
   "id": "0f21cef9",
   "metadata": {},
   "outputs": [
    {
     "data": {
      "text/plain": [
       "'Alfonso'"
      ]
     },
     "execution_count": 35,
     "metadata": {},
     "output_type": "execute_result"
    }
   ],
   "source": [
    "\"Alfonso\""
   ]
  },
  {
   "cell_type": "code",
   "execution_count": 36,
   "id": "83052cfc",
   "metadata": {},
   "outputs": [
    {
     "data": {
      "text/plain": [
       "str"
      ]
     },
     "execution_count": 36,
     "metadata": {},
     "output_type": "execute_result"
    }
   ],
   "source": [
    "type(\"Alfonso\")"
   ]
  },
  {
   "cell_type": "code",
   "execution_count": 37,
   "id": "1410ec13",
   "metadata": {},
   "outputs": [],
   "source": [
    "name = \"Alfonso\""
   ]
  },
  {
   "cell_type": "code",
   "execution_count": 38,
   "id": "c4e62b3c",
   "metadata": {},
   "outputs": [
    {
     "data": {
      "text/plain": [
       "bool"
      ]
     },
     "execution_count": 38,
     "metadata": {},
     "output_type": "execute_result"
    }
   ],
   "source": [
    "type (True)"
   ]
  },
  {
   "cell_type": "code",
   "execution_count": 39,
   "id": "7f603c97",
   "metadata": {},
   "outputs": [
    {
     "data": {
      "text/plain": [
       "tuple"
      ]
     },
     "execution_count": 39,
     "metadata": {},
     "output_type": "execute_result"
    }
   ],
   "source": [
    "Tuple = (0,1,2,3,4)\n",
    "type(Tuple)"
   ]
  },
  {
   "cell_type": "code",
   "execution_count": 40,
   "id": "72d8eae9",
   "metadata": {},
   "outputs": [],
   "source": [
    "# Build-in Functions"
   ]
  },
  {
   "cell_type": "code",
   "execution_count": 41,
   "id": "c9873f14",
   "metadata": {},
   "outputs": [],
   "source": [
    "a,b,c,d= 100,0.03,1,100*1.03 "
   ]
  },
  {
   "cell_type": "code",
   "execution_count": 42,
   "id": "61145adc",
   "metadata": {},
   "outputs": [
    {
     "name": "stdout",
     "output_type": "stream",
     "text": [
      "100\n"
     ]
    }
   ],
   "source": [
    "print(a)"
   ]
  },
  {
   "cell_type": "code",
   "execution_count": 43,
   "id": "0b8cfee4",
   "metadata": {},
   "outputs": [
    {
     "name": "stdout",
     "output_type": "stream",
     "text": [
      "100\n",
      "0.03\n",
      "1\n",
      "103.0\n"
     ]
    }
   ],
   "source": [
    "print(a,b,c,d, sep = \"\\n\")"
   ]
  },
  {
   "cell_type": "code",
   "execution_count": 44,
   "id": "fa0dc125",
   "metadata": {},
   "outputs": [
    {
     "data": {
      "text/plain": [
       "[0, 1, 2, 3]"
      ]
     },
     "execution_count": 44,
     "metadata": {},
     "output_type": "execute_result"
    }
   ],
   "source": [
    "list2 = [0,1,2,3]\n",
    "list2"
   ]
  },
  {
   "cell_type": "code",
   "execution_count": 45,
   "id": "b25de4b0",
   "metadata": {},
   "outputs": [
    {
     "name": "stdout",
     "output_type": "stream",
     "text": [
      "4,7\n"
     ]
    }
   ],
   "source": [
    "print(len(list2),len(\"Alfonso\"), sep = \",\")\n"
   ]
  },
  {
   "cell_type": "code",
   "execution_count": 46,
   "id": "dda49fa0",
   "metadata": {},
   "outputs": [
    {
     "name": "stdout",
     "output_type": "stream",
     "text": [
      "Sum , Min and Max : \n",
      " * 6\n",
      " * 0\n",
      " * 3\n"
     ]
    }
   ],
   "source": [
    "print(\"Sum , Min and Max : \",str(sum(list2)),str(min(list2)),str(max(list2)), sep = \"\\n * \")"
   ]
  },
  {
   "cell_type": "code",
   "execution_count": 47,
   "id": "06795df1",
   "metadata": {},
   "outputs": [
    {
     "data": {
      "text/plain": [
       "'F'"
      ]
     },
     "execution_count": 47,
     "metadata": {},
     "output_type": "execute_result"
    }
   ],
   "source": [
    "min(\"Facebook\")# Capital letters goes first"
   ]
  },
  {
   "cell_type": "code",
   "execution_count": 48,
   "id": "02c7b75d",
   "metadata": {},
   "outputs": [
    {
     "data": {
      "text/plain": [
       "'a'"
      ]
     },
     "execution_count": 48,
     "metadata": {},
     "output_type": "execute_result"
    }
   ],
   "source": [
    "min(\"facebook\")"
   ]
  },
  {
   "cell_type": "code",
   "execution_count": 49,
   "id": "b42994d2",
   "metadata": {},
   "outputs": [],
   "source": [
    "#https://docs.python.org/3.9/library/functions.html#exec"
   ]
  },
  {
   "cell_type": "code",
   "execution_count": 50,
   "id": "4e527832",
   "metadata": {},
   "outputs": [
    {
     "data": {
      "text/plain": [
       "7"
      ]
     },
     "execution_count": 50,
     "metadata": {},
     "output_type": "execute_result"
    }
   ],
   "source": [
    "a.bit_length()"
   ]
  },
  {
   "cell_type": "code",
   "execution_count": 51,
   "id": "0ac0c58b",
   "metadata": {},
   "outputs": [
    {
     "data": {
      "text/plain": [
       "'0.10'"
      ]
     },
     "execution_count": 51,
     "metadata": {},
     "output_type": "execute_result"
    }
   ],
   "source": [
    "format(0.1, \".2f\")"
   ]
  },
  {
   "cell_type": "code",
   "execution_count": 52,
   "id": "bc840e9a",
   "metadata": {},
   "outputs": [
    {
     "data": {
      "text/plain": [
       "0.1"
      ]
     },
     "execution_count": 52,
     "metadata": {},
     "output_type": "execute_result"
    }
   ],
   "source": [
    "round(0.1,1)"
   ]
  },
  {
   "cell_type": "code",
   "execution_count": 53,
   "id": "ccd81ce8",
   "metadata": {},
   "outputs": [],
   "source": [
    "#Lists"
   ]
  },
  {
   "cell_type": "code",
   "execution_count": 54,
   "id": "bc2d1ea6",
   "metadata": {},
   "outputs": [
    {
     "data": {
      "text/plain": [
       "[0, 1, 2, 3]"
      ]
     },
     "execution_count": 54,
     "metadata": {},
     "output_type": "execute_result"
    }
   ],
   "source": [
    "list1"
   ]
  },
  {
   "cell_type": "code",
   "execution_count": 55,
   "id": "6ad63bec",
   "metadata": {},
   "outputs": [
    {
     "name": "stdout",
     "output_type": "stream",
     "text": [
      "[0, 1, 2, 3, 0, 1, 2, 3, 0, 1, 2, 3, 0, 1, 2, 3]\n"
     ]
    }
   ],
   "source": [
    "print(list1 * 4)"
   ]
  },
  {
   "cell_type": "code",
   "execution_count": 56,
   "id": "05aca89d",
   "metadata": {},
   "outputs": [
    {
     "data": {
      "text/plain": [
       "[0, 1, 2, 3, 4]"
      ]
     },
     "execution_count": 56,
     "metadata": {},
     "output_type": "execute_result"
    }
   ],
   "source": [
    "list1.append(4)\n",
    "list1"
   ]
  },
  {
   "cell_type": "code",
   "execution_count": 57,
   "id": "bfc3a78a",
   "metadata": {},
   "outputs": [
    {
     "name": "stdout",
     "output_type": "stream",
     "text": [
      "[0.0, 1.1, 2.2, 3.3000000000000003, 4.4]\n"
     ]
    }
   ],
   "source": [
    "# multiply each element\n",
    "empty_list=[]\n",
    "for i in list1:\n",
    "    new = i* 1.1\n",
    "    empty_list.append(new)\n",
    "print(empty_list)"
   ]
  },
  {
   "cell_type": "code",
   "execution_count": 58,
   "id": "2f406e2a",
   "metadata": {},
   "outputs": [
    {
     "name": "stdout",
     "output_type": "stream",
     "text": [
      "[-20, -19, -18, -17, -16]\n"
     ]
    }
   ],
   "source": [
    "# take out 20 of each element\n",
    "empty_list=[]\n",
    "for i in list1:\n",
    "    new = i -20\n",
    "    empty_list.append(new)\n",
    "print(empty_list)"
   ]
  },
  {
   "cell_type": "code",
   "execution_count": 59,
   "id": "f3352270",
   "metadata": {},
   "outputs": [],
   "source": [
    " #Slicing Lists"
   ]
  },
  {
   "cell_type": "code",
   "execution_count": 60,
   "id": "3711db04",
   "metadata": {},
   "outputs": [
    {
     "data": {
      "text/plain": [
       "[-200, 20, 50, 70, 100, 50]"
      ]
     },
     "execution_count": 60,
     "metadata": {},
     "output_type": "execute_result"
    }
   ],
   "source": [
    "XYZ = [-200,20,50,70,100,50]\n",
    "XYZ"
   ]
  },
  {
   "cell_type": "code",
   "execution_count": 61,
   "id": "6843a928",
   "metadata": {},
   "outputs": [
    {
     "data": {
      "text/plain": [
       "[20, 50, 70]"
      ]
     },
     "execution_count": 61,
     "metadata": {},
     "output_type": "execute_result"
    }
   ],
   "source": [
    "# select the elements from 1 until 4\n",
    "XYZ [1:4]"
   ]
  },
  {
   "cell_type": "code",
   "execution_count": 62,
   "id": "2744b8a6",
   "metadata": {},
   "outputs": [
    {
     "data": {
      "text/plain": [
       "[-200, 20, 50]"
      ]
     },
     "execution_count": 62,
     "metadata": {},
     "output_type": "execute_result"
    }
   ],
   "source": [
    "XYZ[:3]"
   ]
  },
  {
   "cell_type": "code",
   "execution_count": 63,
   "id": "c0e18a60",
   "metadata": {},
   "outputs": [
    {
     "data": {
      "text/plain": [
       "[-200, 20, 50, 70, 100, 50]"
      ]
     },
     "execution_count": 63,
     "metadata": {},
     "output_type": "execute_result"
    }
   ],
   "source": [
    "XYZ[:]"
   ]
  },
  {
   "cell_type": "code",
   "execution_count": 64,
   "id": "6097c3c2",
   "metadata": {},
   "outputs": [
    {
     "data": {
      "text/plain": [
       "[-200, 20, 50, 70, 100]"
      ]
     },
     "execution_count": 64,
     "metadata": {},
     "output_type": "execute_result"
    }
   ],
   "source": [
    "XYZ[:-1]"
   ]
  },
  {
   "cell_type": "code",
   "execution_count": 65,
   "id": "3cfd249f",
   "metadata": {},
   "outputs": [
    {
     "data": {
      "text/plain": [
       "[-200, 50, 100]"
      ]
     },
     "execution_count": 65,
     "metadata": {},
     "output_type": "execute_result"
    }
   ],
   "source": [
    "#Going every 2 jumps \n",
    "XYZ[::2]"
   ]
  },
  {
   "cell_type": "code",
   "execution_count": 66,
   "id": "2aca54c6",
   "metadata": {},
   "outputs": [],
   "source": [
    "#Manipulate elements in list"
   ]
  },
  {
   "cell_type": "code",
   "execution_count": 67,
   "id": "d3ebc7e6",
   "metadata": {},
   "outputs": [
    {
     "data": {
      "text/plain": [
       "[1973, 20, 50, 70, 100, 50]"
      ]
     },
     "execution_count": 67,
     "metadata": {},
     "output_type": "execute_result"
    }
   ],
   "source": [
    "XYZ[0] = 1973\n",
    "XYZ"
   ]
  },
  {
   "cell_type": "code",
   "execution_count": 68,
   "id": "a8d3f335",
   "metadata": {},
   "outputs": [],
   "source": [
    "XYZ[1:]= [70,70,7,0]"
   ]
  },
  {
   "cell_type": "code",
   "execution_count": 69,
   "id": "2f59280e",
   "metadata": {},
   "outputs": [
    {
     "data": {
      "text/plain": [
       "[0, 1, 2, 3, 4, 5]"
      ]
     },
     "execution_count": 69,
     "metadata": {},
     "output_type": "execute_result"
    }
   ],
   "source": [
    "XYZ = list(range(6))\n",
    "XYZ"
   ]
  },
  {
   "cell_type": "code",
   "execution_count": 70,
   "id": "d16f1043",
   "metadata": {},
   "outputs": [
    {
     "data": {
      "text/plain": [
       "[5, 4, 3, 2, 1, 0]"
      ]
     },
     "execution_count": 70,
     "metadata": {},
     "output_type": "execute_result"
    }
   ],
   "source": [
    "XYZ[::-1]"
   ]
  },
  {
   "cell_type": "code",
   "execution_count": 71,
   "id": "b3de9950",
   "metadata": {},
   "outputs": [
    {
     "data": {
      "text/plain": [
       "[0, 1, 2, 3, 4, 5]"
      ]
     },
     "execution_count": 71,
     "metadata": {},
     "output_type": "execute_result"
    }
   ],
   "source": [
    "XYZ"
   ]
  },
  {
   "cell_type": "code",
   "execution_count": 72,
   "id": "3d9ffbc3",
   "metadata": {},
   "outputs": [
    {
     "data": {
      "text/plain": [
       "[5, 4, 3, 2, 1, 0]"
      ]
     },
     "execution_count": 72,
     "metadata": {},
     "output_type": "execute_result"
    }
   ],
   "source": [
    "XYZ = XYZ[::-1]\n",
    "XYZ"
   ]
  },
  {
   "cell_type": "code",
   "execution_count": 73,
   "id": "3a656950",
   "metadata": {},
   "outputs": [],
   "source": [
    "XYZ.reverse()"
   ]
  },
  {
   "cell_type": "code",
   "execution_count": 74,
   "id": "0a93e48c",
   "metadata": {},
   "outputs": [
    {
     "data": {
      "text/plain": [
       "[0, 1, 2, 3, 4, 5]"
      ]
     },
     "execution_count": 74,
     "metadata": {},
     "output_type": "execute_result"
    }
   ],
   "source": [
    "XYZ"
   ]
  },
  {
   "cell_type": "code",
   "execution_count": 75,
   "id": "1a09c524",
   "metadata": {},
   "outputs": [
    {
     "data": {
      "text/plain": [
       "[0, 1, 2, 3, 4, 5, 10]"
      ]
     },
     "execution_count": 75,
     "metadata": {},
     "output_type": "execute_result"
    }
   ],
   "source": [
    "XYZ.append(10)\n",
    "XYZ"
   ]
  },
  {
   "cell_type": "code",
   "execution_count": 76,
   "id": "8b988936",
   "metadata": {},
   "outputs": [
    {
     "data": {
      "text/plain": [
       "[0, 1, 2, 3, 4, 5, 10, 20]"
      ]
     },
     "execution_count": 76,
     "metadata": {},
     "output_type": "execute_result"
    }
   ],
   "source": [
    "XYZ = XYZ + [20]\n",
    "XYZ"
   ]
  },
  {
   "cell_type": "code",
   "execution_count": 77,
   "id": "7a84d3e4",
   "metadata": {},
   "outputs": [],
   "source": [
    "XYZ = XYZ + [5 ,2 ] "
   ]
  },
  {
   "cell_type": "code",
   "execution_count": 78,
   "id": "77daabdb",
   "metadata": {},
   "outputs": [
    {
     "data": {
      "text/plain": [
       "[0, 1, 2, 3, 4, 5, 10, 20, 5, 2]"
      ]
     },
     "execution_count": 78,
     "metadata": {},
     "output_type": "execute_result"
    }
   ],
   "source": [
    "XYZ"
   ]
  },
  {
   "cell_type": "code",
   "execution_count": 79,
   "id": "4af836dc",
   "metadata": {},
   "outputs": [
    {
     "data": {
      "text/plain": [
       "[0, 1, 3, 4, 5, 10, 20, 5, 2]"
      ]
     },
     "execution_count": 79,
     "metadata": {},
     "output_type": "execute_result"
    }
   ],
   "source": [
    "XYZ.remove(2)\n",
    "XYZ"
   ]
  },
  {
   "cell_type": "code",
   "execution_count": 80,
   "id": "2521df19",
   "metadata": {},
   "outputs": [],
   "source": [
    "XYZ = XYZ[:-5]"
   ]
  },
  {
   "cell_type": "code",
   "execution_count": 81,
   "id": "03dff3e5",
   "metadata": {},
   "outputs": [
    {
     "data": {
      "text/plain": [
       "[0, 1, 3, 4]"
      ]
     },
     "execution_count": 81,
     "metadata": {},
     "output_type": "execute_result"
    }
   ],
   "source": [
    "XYZ"
   ]
  },
  {
   "cell_type": "code",
   "execution_count": 82,
   "id": "277cbd6d",
   "metadata": {},
   "outputs": [
    {
     "data": {
      "text/plain": [
       "4"
      ]
     },
     "execution_count": 82,
     "metadata": {},
     "output_type": "execute_result"
    }
   ],
   "source": [
    "XYZ.pop()"
   ]
  },
  {
   "cell_type": "code",
   "execution_count": 83,
   "id": "2f693df2",
   "metadata": {},
   "outputs": [
    {
     "data": {
      "text/plain": [
       "[0, 1, 3]"
      ]
     },
     "execution_count": 83,
     "metadata": {},
     "output_type": "execute_result"
    }
   ],
   "source": [
    "XYZ"
   ]
  },
  {
   "cell_type": "code",
   "execution_count": 84,
   "id": "205e40fc",
   "metadata": {},
   "outputs": [],
   "source": [
    "XYZ.insert(2,90)"
   ]
  },
  {
   "cell_type": "code",
   "execution_count": 85,
   "id": "7aed1829",
   "metadata": {},
   "outputs": [
    {
     "data": {
      "text/plain": [
       "[0, 1, 90, 3]"
      ]
     },
     "execution_count": 85,
     "metadata": {},
     "output_type": "execute_result"
    }
   ],
   "source": [
    "XYZ"
   ]
  },
  {
   "cell_type": "code",
   "execution_count": 86,
   "id": "c0c1d038",
   "metadata": {},
   "outputs": [],
   "source": [
    "# Tuples"
   ]
  },
  {
   "cell_type": "code",
   "execution_count": 87,
   "id": "33af7e70",
   "metadata": {},
   "outputs": [
    {
     "data": {
      "text/plain": [
       "[-200, 20, 50, 70, 100, 50]"
      ]
     },
     "execution_count": 87,
     "metadata": {},
     "output_type": "execute_result"
    }
   ],
   "source": [
    "list3 = [-200,20,50,70,100,50]\n",
    "list3"
   ]
  },
  {
   "cell_type": "code",
   "execution_count": 88,
   "id": "d4fa4f65",
   "metadata": {},
   "outputs": [
    {
     "data": {
      "text/plain": [
       "[(0, -200), (1, 20), (2, 50), (3, 70), (4, 100), (5, 50)]"
      ]
     },
     "execution_count": 88,
     "metadata": {},
     "output_type": "execute_result"
    }
   ],
   "source": [
    "enum = list(enumerate(list3))\n",
    "enum"
   ]
  },
  {
   "cell_type": "code",
   "execution_count": 89,
   "id": "2aef61af",
   "metadata": {},
   "outputs": [
    {
     "data": {
      "text/plain": [
       "(0, -200)"
      ]
     },
     "execution_count": 89,
     "metadata": {},
     "output_type": "execute_result"
    }
   ],
   "source": [
    "tup = enum[0]\n",
    "tup"
   ]
  },
  {
   "cell_type": "code",
   "execution_count": 90,
   "id": "f3103b55",
   "metadata": {},
   "outputs": [
    {
     "data": {
      "text/plain": [
       "tuple"
      ]
     },
     "execution_count": 90,
     "metadata": {},
     "output_type": "execute_result"
    }
   ],
   "source": [
    "type(tup)"
   ]
  },
  {
   "cell_type": "code",
   "execution_count": 92,
   "id": "e5e4a053",
   "metadata": {},
   "outputs": [
    {
     "data": {
      "text/plain": [
       "0"
      ]
     },
     "execution_count": 92,
     "metadata": {},
     "output_type": "execute_result"
    }
   ],
   "source": [
    "tup[0]"
   ]
  },
  {
   "cell_type": "code",
   "execution_count": 93,
   "id": "b00da552",
   "metadata": {},
   "outputs": [
    {
     "data": {
      "text/plain": [
       "-200"
      ]
     },
     "execution_count": 93,
     "metadata": {},
     "output_type": "execute_result"
    }
   ],
   "source": [
    "tup[-1]"
   ]
  },
  {
   "cell_type": "code",
   "execution_count": 95,
   "id": "819063c9",
   "metadata": {},
   "outputs": [
    {
     "ename": "TypeError",
     "evalue": "'tuple' object does not support item assignment",
     "output_type": "error",
     "traceback": [
      "\u001b[0;31m---------------------------------------------------------------------------\u001b[0m",
      "\u001b[0;31mTypeError\u001b[0m                                 Traceback (most recent call last)",
      "\u001b[0;32m/var/folders/zy/br81npcs27v9lfjb520h7t100000gn/T/ipykernel_16530/1518456705.py\u001b[0m in \u001b[0;36m<module>\u001b[0;34m\u001b[0m\n\u001b[0;32m----> 1\u001b[0;31m \u001b[0mtup\u001b[0m\u001b[0;34m[\u001b[0m\u001b[0;36m1\u001b[0m\u001b[0;34m]\u001b[0m \u001b[0;34m=\u001b[0m \u001b[0;34m-\u001b[0m\u001b[0;36m150\u001b[0m\u001b[0;34m\u001b[0m\u001b[0;34m\u001b[0m\u001b[0m\n\u001b[0m",
      "\u001b[0;31mTypeError\u001b[0m: 'tuple' object does not support item assignment"
     ]
    }
   ],
   "source": [
    "tup[1] = -150"
   ]
  },
  {
   "cell_type": "code",
   "execution_count": 96,
   "id": "dce980e4",
   "metadata": {},
   "outputs": [
    {
     "data": {
      "text/plain": [
       "1"
      ]
     },
     "execution_count": 96,
     "metadata": {},
     "output_type": "execute_result"
    }
   ],
   "source": [
    "tup.count(-200)"
   ]
  },
  {
   "cell_type": "code",
   "execution_count": 97,
   "id": "43e05a27",
   "metadata": {},
   "outputs": [
    {
     "data": {
      "text/plain": [
       "1"
      ]
     },
     "execution_count": 97,
     "metadata": {},
     "output_type": "execute_result"
    }
   ],
   "source": [
    "tup.index(-200)"
   ]
  },
  {
   "cell_type": "code",
   "execution_count": 98,
   "id": "9175a7a3",
   "metadata": {},
   "outputs": [],
   "source": [
    "pos, list3 = tup"
   ]
  },
  {
   "cell_type": "code",
   "execution_count": 99,
   "id": "7d7fe125",
   "metadata": {},
   "outputs": [
    {
     "data": {
      "text/plain": [
       "0"
      ]
     },
     "execution_count": 99,
     "metadata": {},
     "output_type": "execute_result"
    }
   ],
   "source": [
    "pos"
   ]
  },
  {
   "cell_type": "code",
   "execution_count": 100,
   "id": "03e1b1cd",
   "metadata": {},
   "outputs": [
    {
     "data": {
      "text/plain": [
       "-200"
      ]
     },
     "execution_count": 100,
     "metadata": {},
     "output_type": "execute_result"
    }
   ],
   "source": [
    "list3"
   ]
  },
  {
   "cell_type": "code",
   "execution_count": 101,
   "id": "f2b80470",
   "metadata": {},
   "outputs": [],
   "source": [
    "tup2 = (0,1,2,3,4,5,6,7,8,9)"
   ]
  },
  {
   "cell_type": "code",
   "execution_count": 102,
   "id": "2f46ba10",
   "metadata": {},
   "outputs": [],
   "source": [
    "tup3 = 0, -100"
   ]
  },
  {
   "cell_type": "code",
   "execution_count": 103,
   "id": "a5b48dbf",
   "metadata": {},
   "outputs": [],
   "source": [
    "l= list(tup)"
   ]
  },
  {
   "cell_type": "code",
   "execution_count": 104,
   "id": "b8bc06f1",
   "metadata": {},
   "outputs": [
    {
     "data": {
      "text/plain": [
       "(0, -200)"
      ]
     },
     "execution_count": 104,
     "metadata": {},
     "output_type": "execute_result"
    }
   ],
   "source": [
    "tuple(l)"
   ]
  },
  {
   "cell_type": "code",
   "execution_count": 105,
   "id": "b20ab56b",
   "metadata": {},
   "outputs": [],
   "source": [
    "#Dictionaries"
   ]
  },
  {
   "cell_type": "code",
   "execution_count": 106,
   "id": "af0867a6",
   "metadata": {},
   "outputs": [],
   "source": [
    "stock_name = [ \"Facebook\", \"Microsoft\", \"Apple\"]\n",
    "stock_price = [ 188.25 , 144.33, 244.65]"
   ]
  },
  {
   "cell_type": "code",
   "execution_count": 107,
   "id": "8fc63931",
   "metadata": {},
   "outputs": [],
   "source": [
    "Dictionary1 ={\"Facebook\": 188.25, \"Microsoft\": 144.33,\"Apple\":244.65}"
   ]
  },
  {
   "cell_type": "code",
   "execution_count": 108,
   "id": "9f8b9294",
   "metadata": {},
   "outputs": [
    {
     "data": {
      "text/plain": [
       "dict"
      ]
     },
     "execution_count": 108,
     "metadata": {},
     "output_type": "execute_result"
    }
   ],
   "source": [
    "type(Dictionary1)"
   ]
  },
  {
   "cell_type": "code",
   "execution_count": 109,
   "id": "9d845d35",
   "metadata": {},
   "outputs": [
    {
     "data": {
      "text/plain": [
       "244.65"
      ]
     },
     "execution_count": 109,
     "metadata": {},
     "output_type": "execute_result"
    }
   ],
   "source": [
    "Dictionary1[\"Apple\"]"
   ]
  },
  {
   "cell_type": "code",
   "execution_count": 110,
   "id": "c5fcdd3c",
   "metadata": {},
   "outputs": [],
   "source": [
    "Dictionary1[\"Apple\"] = 1"
   ]
  },
  {
   "cell_type": "code",
   "execution_count": 111,
   "id": "174b997c",
   "metadata": {},
   "outputs": [
    {
     "data": {
      "text/plain": [
       "{'Facebook': 188.25, 'Microsoft': 144.33, 'Apple': 1}"
      ]
     },
     "execution_count": 111,
     "metadata": {},
     "output_type": "execute_result"
    }
   ],
   "source": [
    "Dictionary1"
   ]
  },
  {
   "cell_type": "code",
   "execution_count": 112,
   "id": "ac0f8e1b",
   "metadata": {},
   "outputs": [
    {
     "data": {
      "text/plain": [
       "dict_keys(['Facebook', 'Microsoft', 'Apple'])"
      ]
     },
     "execution_count": 112,
     "metadata": {},
     "output_type": "execute_result"
    }
   ],
   "source": [
    "Dictionary1.keys()"
   ]
  },
  {
   "cell_type": "code",
   "execution_count": 116,
   "id": "3a9b6211",
   "metadata": {},
   "outputs": [
    {
     "data": {
      "text/plain": [
       "dict_values([188.25, 144.33, 1])"
      ]
     },
     "execution_count": 116,
     "metadata": {},
     "output_type": "execute_result"
    }
   ],
   "source": [
    "list4 = Dictionary1.values()\n",
    "list4"
   ]
  },
  {
   "cell_type": "code",
   "execution_count": 117,
   "id": "0457e67e",
   "metadata": {},
   "outputs": [
    {
     "data": {
      "text/plain": [
       "dict_values"
      ]
     },
     "execution_count": 117,
     "metadata": {},
     "output_type": "execute_result"
    }
   ],
   "source": [
    "type(list4)"
   ]
  },
  {
   "cell_type": "raw",
   "id": "1e06a44a",
   "metadata": {},
   "source": [
    "\n"
   ]
  },
  {
   "cell_type": "code",
   "execution_count": 119,
   "id": "f312b042",
   "metadata": {},
   "outputs": [
    {
     "data": {
      "text/plain": [
       "[188.25, 144.33, 1]"
      ]
     },
     "execution_count": 119,
     "metadata": {},
     "output_type": "execute_result"
    }
   ],
   "source": [
    "list(list4)"
   ]
  },
  {
   "cell_type": "code",
   "execution_count": 120,
   "id": "fc2ff818",
   "metadata": {},
   "outputs": [
    {
     "data": {
      "text/plain": [
       "dict_items([('Facebook', 188.25), ('Microsoft', 144.33), ('Apple', 1)])"
      ]
     },
     "execution_count": 120,
     "metadata": {},
     "output_type": "execute_result"
    }
   ],
   "source": [
    "Dictionary1.items()"
   ]
  },
  {
   "cell_type": "code",
   "execution_count": 121,
   "id": "e724af9f",
   "metadata": {},
   "outputs": [
    {
     "data": {
      "text/plain": [
       "[('Facebook', 188.25), ('Microsoft', 144.33), ('Apple', 1)]"
      ]
     },
     "execution_count": 121,
     "metadata": {},
     "output_type": "execute_result"
    }
   ],
   "source": [
    "list(Dictionary1.items())"
   ]
  },
  {
   "cell_type": "code",
   "execution_count": 122,
   "id": "8ecf4190",
   "metadata": {},
   "outputs": [
    {
     "name": "stdout",
     "output_type": "stream",
     "text": [
      "Facebook 188.25\n",
      "Microsoft 144.33\n",
      "Apple 1\n"
     ]
    }
   ],
   "source": [
    "for key,value in Dictionary1.items():\n",
    "    print(key,value)"
   ]
  },
  {
   "cell_type": "code",
   "execution_count": 123,
   "id": "883191be",
   "metadata": {},
   "outputs": [
    {
     "data": {
      "text/plain": [
       "<zip at 0x7f8e7ba17700>"
      ]
     },
     "execution_count": 123,
     "metadata": {},
     "output_type": "execute_result"
    }
   ],
   "source": [
    "zip(stock_name,stock_price)"
   ]
  },
  {
   "cell_type": "code",
   "execution_count": 124,
   "id": "36094be7",
   "metadata": {},
   "outputs": [
    {
     "data": {
      "text/plain": [
       "zip"
      ]
     },
     "execution_count": 124,
     "metadata": {},
     "output_type": "execute_result"
    }
   ],
   "source": [
    "type (zip(stock_name,stock_price))"
   ]
  },
  {
   "cell_type": "code",
   "execution_count": 125,
   "id": "c84f1207",
   "metadata": {},
   "outputs": [
    {
     "data": {
      "text/plain": [
       "{'Facebook': 188.25, 'Microsoft': 144.33, 'Apple': 244.65}"
      ]
     },
     "execution_count": 125,
     "metadata": {},
     "output_type": "execute_result"
    }
   ],
   "source": [
    "dict(zip(stock_name,stock_price))"
   ]
  },
  {
   "cell_type": "code",
   "execution_count": 126,
   "id": "9b9fb0b9",
   "metadata": {},
   "outputs": [
    {
     "name": "stdout",
     "output_type": "stream",
     "text": [
      "('Facebook', 188.25)\n",
      "('Microsoft', 144.33)\n",
      "('Apple', 244.65)\n"
     ]
    }
   ],
   "source": [
    "for i in zip(stock_name,stock_price):\n",
    "    print (i)"
   ]
  },
  {
   "cell_type": "code",
   "execution_count": 127,
   "id": "93149fcb",
   "metadata": {},
   "outputs": [],
   "source": [
    "# Strings"
   ]
  },
  {
   "cell_type": "code",
   "execution_count": 128,
   "id": "fa0325cb",
   "metadata": {},
   "outputs": [],
   "source": [
    "Company_name = \"Facebook Inc.\""
   ]
  },
  {
   "cell_type": "code",
   "execution_count": 129,
   "id": "12bf335f",
   "metadata": {},
   "outputs": [
    {
     "data": {
      "text/plain": [
       "'Facebook Inc.'"
      ]
     },
     "execution_count": 129,
     "metadata": {},
     "output_type": "execute_result"
    }
   ],
   "source": [
    "Company_name"
   ]
  },
  {
   "cell_type": "code",
   "execution_count": 130,
   "id": "3040124d",
   "metadata": {},
   "outputs": [
    {
     "data": {
      "text/plain": [
       "str"
      ]
     },
     "execution_count": 130,
     "metadata": {},
     "output_type": "execute_result"
    }
   ],
   "source": [
    "type(Company_name)"
   ]
  },
  {
   "cell_type": "code",
   "execution_count": 131,
   "id": "d80e7e7c",
   "metadata": {},
   "outputs": [
    {
     "data": {
      "text/plain": [
       "'F'"
      ]
     },
     "execution_count": 131,
     "metadata": {},
     "output_type": "execute_result"
    }
   ],
   "source": [
    "Company_name[0]"
   ]
  },
  {
   "cell_type": "code",
   "execution_count": 132,
   "id": "9f7ff1da",
   "metadata": {},
   "outputs": [
    {
     "data": {
      "text/plain": [
       "'.'"
      ]
     },
     "execution_count": 132,
     "metadata": {},
     "output_type": "execute_result"
    }
   ],
   "source": [
    "Company_name[-1]"
   ]
  },
  {
   "cell_type": "code",
   "execution_count": 133,
   "id": "a9531faa",
   "metadata": {},
   "outputs": [
    {
     "data": {
      "text/plain": [
       "'e'"
      ]
     },
     "execution_count": 133,
     "metadata": {},
     "output_type": "execute_result"
    }
   ],
   "source": [
    "Company_name[3]"
   ]
  },
  {
   "cell_type": "code",
   "execution_count": 134,
   "id": "c94ccbb4",
   "metadata": {},
   "outputs": [
    {
     "data": {
      "text/plain": [
       "'ceboo'"
      ]
     },
     "execution_count": 134,
     "metadata": {},
     "output_type": "execute_result"
    }
   ],
   "source": [
    "Company_name[2:7]"
   ]
  },
  {
   "cell_type": "code",
   "execution_count": 135,
   "id": "e6ee125c",
   "metadata": {},
   "outputs": [],
   "source": [
    " sentence= \" I have invested 100£ in Apple\""
   ]
  },
  {
   "cell_type": "code",
   "execution_count": 136,
   "id": "15a33c60",
   "metadata": {},
   "outputs": [
    {
     "data": {
      "text/plain": [
       "30"
      ]
     },
     "execution_count": 136,
     "metadata": {},
     "output_type": "execute_result"
    }
   ],
   "source": [
    "len(sentence) #Spaces count"
   ]
  },
  {
   "cell_type": "code",
   "execution_count": 137,
   "id": "afe4acb6",
   "metadata": {},
   "outputs": [],
   "source": [
    "IO = \"100\""
   ]
  },
  {
   "cell_type": "code",
   "execution_count": 138,
   "id": "e2752213",
   "metadata": {},
   "outputs": [
    {
     "data": {
      "text/plain": [
       "str"
      ]
     },
     "execution_count": 138,
     "metadata": {},
     "output_type": "execute_result"
    }
   ],
   "source": [
    "type(IO)"
   ]
  },
  {
   "cell_type": "code",
   "execution_count": 155,
   "id": "480e1b33",
   "metadata": {},
   "outputs": [
    {
     "data": {
      "text/plain": [
       "103.0"
      ]
     },
     "execution_count": 155,
     "metadata": {},
     "output_type": "execute_result"
    }
   ],
   "source": [
    "IO* 1.03"
   ]
  },
  {
   "cell_type": "code",
   "execution_count": 140,
   "id": "7791788c",
   "metadata": {},
   "outputs": [
    {
     "data": {
      "text/plain": [
       "'100 USD'"
      ]
     },
     "execution_count": 140,
     "metadata": {},
     "output_type": "execute_result"
    }
   ],
   "source": [
    "IO + \" USD\""
   ]
  },
  {
   "cell_type": "code",
   "execution_count": 141,
   "id": "5ec4eee8",
   "metadata": {},
   "outputs": [
    {
     "data": {
      "text/plain": [
       "100"
      ]
     },
     "execution_count": 141,
     "metadata": {},
     "output_type": "execute_result"
    }
   ],
   "source": [
    "int(IO)"
   ]
  },
  {
   "cell_type": "code",
   "execution_count": 152,
   "id": "b18de8aa",
   "metadata": {},
   "outputs": [],
   "source": [
    "IO = int(IO)"
   ]
  },
  {
   "cell_type": "code",
   "execution_count": 156,
   "id": "90e14c66",
   "metadata": {},
   "outputs": [
    {
     "data": {
      "text/plain": [
       "100"
      ]
     },
     "execution_count": 156,
     "metadata": {},
     "output_type": "execute_result"
    }
   ],
   "source": [
    "IO"
   ]
  },
  {
   "cell_type": "code",
   "execution_count": 157,
   "id": "d835afea",
   "metadata": {},
   "outputs": [
    {
     "data": {
      "text/plain": [
       "int"
      ]
     },
     "execution_count": 157,
     "metadata": {},
     "output_type": "execute_result"
    }
   ],
   "source": [
    "type(IO)"
   ]
  },
  {
   "cell_type": "code",
   "execution_count": 158,
   "id": "8fdf912a",
   "metadata": {},
   "outputs": [],
   "source": [
    "IO = str(IO)"
   ]
  },
  {
   "cell_type": "code",
   "execution_count": 159,
   "id": "7187e041",
   "metadata": {},
   "outputs": [
    {
     "data": {
      "text/plain": [
       "' I HAVE INVESTED 100£ IN APPLE'"
      ]
     },
     "execution_count": 159,
     "metadata": {},
     "output_type": "execute_result"
    }
   ],
   "source": [
    "sentence.upper()"
   ]
  },
  {
   "cell_type": "code",
   "execution_count": 160,
   "id": "1846fcfe",
   "metadata": {},
   "outputs": [
    {
     "data": {
      "text/plain": [
       "' i have invested 100£ in apple'"
      ]
     },
     "execution_count": 160,
     "metadata": {},
     "output_type": "execute_result"
    }
   ],
   "source": [
    "sentence.capitalize()"
   ]
  },
  {
   "cell_type": "code",
   "execution_count": 161,
   "id": "7f97fd72",
   "metadata": {},
   "outputs": [
    {
     "data": {
      "text/plain": [
       "' i have invested 100£ in apple'"
      ]
     },
     "execution_count": 161,
     "metadata": {},
     "output_type": "execute_result"
    }
   ],
   "source": [
    "sentence.lower()"
   ]
  },
  {
   "cell_type": "code",
   "execution_count": 162,
   "id": "99f05828",
   "metadata": {},
   "outputs": [
    {
     "data": {
      "text/plain": [
       "' i have invested 100£ in apple'"
      ]
     },
     "execution_count": 162,
     "metadata": {},
     "output_type": "execute_result"
    }
   ],
   "source": [
    "sentence.capitalize()"
   ]
  },
  {
   "cell_type": "code",
   "execution_count": 163,
   "id": "ff56e518",
   "metadata": {},
   "outputs": [
    {
     "data": {
      "text/plain": [
       "' I Have Invested 100£ In Apple'"
      ]
     },
     "execution_count": 163,
     "metadata": {},
     "output_type": "execute_result"
    }
   ],
   "source": [
    "sentence.title()"
   ]
  },
  {
   "cell_type": "code",
   "execution_count": 166,
   "id": "f40830ac",
   "metadata": {},
   "outputs": [
    {
     "data": {
      "text/plain": [
       "False"
      ]
     },
     "execution_count": 166,
     "metadata": {},
     "output_type": "execute_result"
    }
   ],
   "source": [
    "sentence.istitle()"
   ]
  },
  {
   "cell_type": "code",
   "execution_count": 167,
   "id": "faaff522",
   "metadata": {},
   "outputs": [],
   "source": [
    "#String Replacements"
   ]
  },
  {
   "cell_type": "code",
   "execution_count": 168,
   "id": "4487b55b",
   "metadata": {},
   "outputs": [],
   "source": [
    "r = 0.05"
   ]
  },
  {
   "cell_type": "code",
   "execution_count": 169,
   "id": "e36a72a8",
   "metadata": {},
   "outputs": [
    {
     "data": {
      "text/plain": [
       "'The interest rate is 0.05.'"
      ]
     },
     "execution_count": 169,
     "metadata": {},
     "output_type": "execute_result"
    }
   ],
   "source": [
    "\"The interest rate is {}.\" .format(r)"
   ]
  },
  {
   "cell_type": "code",
   "execution_count": 170,
   "id": "76f04be3",
   "metadata": {},
   "outputs": [],
   "source": [
    "what = \"interest rate\""
   ]
  },
  {
   "cell_type": "code",
   "execution_count": 171,
   "id": "5c6bc217",
   "metadata": {},
   "outputs": [
    {
     "data": {
      "text/plain": [
       "'The interest rate is 0.05 '"
      ]
     },
     "execution_count": 171,
     "metadata": {},
     "output_type": "execute_result"
    }
   ],
   "source": [
    "\"The {} is {} \" .format(what,r)"
   ]
  },
  {
   "cell_type": "code",
   "execution_count": 174,
   "id": "9f1d56a6",
   "metadata": {},
   "outputs": [
    {
     "data": {
      "text/plain": [
       "[100, 10, 20, 50, 30, 25]"
      ]
     },
     "execution_count": 174,
     "metadata": {},
     "output_type": "execute_result"
    }
   ],
   "source": [
    "CashFlow"
   ]
  },
  {
   "cell_type": "code",
   "execution_count": 176,
   "id": "a16eb3f6",
   "metadata": {},
   "outputs": [
    {
     "name": "stdout",
     "output_type": "stream",
     "text": [
      "The Cashflow at  0 is 100 \n",
      "The Cashflow at  1 is 10 \n",
      "The Cashflow at  2 is 20 \n",
      "The Cashflow at  3 is 50 \n",
      "The Cashflow at  4 is 30 \n",
      "The Cashflow at  5 is 25 \n"
     ]
    }
   ],
   "source": [
    "for i in range(len(CashFlow)):\n",
    "    print(\"The Cashflow at  {} is {} \".format(i ,CashFlow[i]))"
   ]
  },
  {
   "cell_type": "code",
   "execution_count": 177,
   "id": "d40799da",
   "metadata": {},
   "outputs": [],
   "source": [
    "#Boolean"
   ]
  },
  {
   "cell_type": "code",
   "execution_count": 178,
   "id": "27055812",
   "metadata": {},
   "outputs": [
    {
     "data": {
      "text/plain": [
       "True"
      ]
     },
     "execution_count": 178,
     "metadata": {},
     "output_type": "execute_result"
    }
   ],
   "source": [
    "True"
   ]
  },
  {
   "cell_type": "code",
   "execution_count": 179,
   "id": "61ecd8c5",
   "metadata": {},
   "outputs": [
    {
     "data": {
      "text/plain": [
       "False"
      ]
     },
     "execution_count": 179,
     "metadata": {},
     "output_type": "execute_result"
    }
   ],
   "source": [
    "False"
   ]
  },
  {
   "cell_type": "code",
   "execution_count": 180,
   "id": "7420c7ab",
   "metadata": {},
   "outputs": [
    {
     "name": "stdout",
     "output_type": "stream",
     "text": [
      "<class 'bool'> <class 'bool'>\n"
     ]
    }
   ],
   "source": [
    "print(type(True),type(False))"
   ]
  },
  {
   "cell_type": "code",
   "execution_count": 182,
   "id": "07405142",
   "metadata": {},
   "outputs": [],
   "source": [
    "number1 = 10\n",
    "number2 = 20"
   ]
  },
  {
   "cell_type": "code",
   "execution_count": 183,
   "id": "1821491b",
   "metadata": {},
   "outputs": [
    {
     "data": {
      "text/plain": [
       "False"
      ]
     },
     "execution_count": 183,
     "metadata": {},
     "output_type": "execute_result"
    }
   ],
   "source": [
    "number1 == number2 #equal"
   ]
  },
  {
   "cell_type": "code",
   "execution_count": 184,
   "id": "54bb6cd4",
   "metadata": {},
   "outputs": [
    {
     "data": {
      "text/plain": [
       "False"
      ]
     },
     "execution_count": 184,
     "metadata": {},
     "output_type": "execute_result"
    }
   ],
   "source": [
    "number1 > number2 #greatest than"
   ]
  },
  {
   "cell_type": "code",
   "execution_count": 185,
   "id": "d8b4bd8e",
   "metadata": {},
   "outputs": [
    {
     "data": {
      "text/plain": [
       "True"
      ]
     },
     "execution_count": 185,
     "metadata": {},
     "output_type": "execute_result"
    }
   ],
   "source": [
    "number1 < number2 #smaller than"
   ]
  },
  {
   "cell_type": "code",
   "execution_count": 186,
   "id": "90700225",
   "metadata": {},
   "outputs": [
    {
     "data": {
      "text/plain": [
       "False"
      ]
     },
     "execution_count": 186,
     "metadata": {},
     "output_type": "execute_result"
    }
   ],
   "source": [
    "number1 >= number2 # greater or equal to"
   ]
  },
  {
   "cell_type": "code",
   "execution_count": 187,
   "id": "8dd0bca8",
   "metadata": {},
   "outputs": [
    {
     "data": {
      "text/plain": [
       "True"
      ]
     },
     "execution_count": 187,
     "metadata": {},
     "output_type": "execute_result"
    }
   ],
   "source": [
    "number1 < number2 #smaller or equal to"
   ]
  },
  {
   "cell_type": "code",
   "execution_count": 188,
   "id": "13d9600f",
   "metadata": {},
   "outputs": [],
   "source": [
    "rate = 0.05"
   ]
  },
  {
   "cell_type": "code",
   "execution_count": 189,
   "id": "abe86a2d",
   "metadata": {},
   "outputs": [],
   "source": [
    "rate1 = rate"
   ]
  },
  {
   "cell_type": "code",
   "execution_count": 190,
   "id": "30952d21",
   "metadata": {},
   "outputs": [
    {
     "data": {
      "text/plain": [
       "True"
      ]
     },
     "execution_count": 190,
     "metadata": {},
     "output_type": "execute_result"
    }
   ],
   "source": [
    "rate == rate1"
   ]
  },
  {
   "cell_type": "code",
   "execution_count": 192,
   "id": "46fc9068",
   "metadata": {},
   "outputs": [
    {
     "data": {
      "text/plain": [
       "True"
      ]
     },
     "execution_count": 192,
     "metadata": {},
     "output_type": "execute_result"
    }
   ],
   "source": [
    "rate is rate1 #is the same object"
   ]
  },
  {
   "cell_type": "code",
   "execution_count": null,
   "id": "2ce75ec3",
   "metadata": {},
   "outputs": [],
   "source": []
  }
 ],
 "metadata": {
  "kernelspec": {
   "display_name": "Python 3 (ipykernel)",
   "language": "python",
   "name": "python3"
  },
  "language_info": {
   "codemirror_mode": {
    "name": "ipython",
    "version": 3
   },
   "file_extension": ".py",
   "mimetype": "text/x-python",
   "name": "python",
   "nbconvert_exporter": "python",
   "pygments_lexer": "ipython3",
   "version": "3.9.7"
  }
 },
 "nbformat": 4,
 "nbformat_minor": 5
}
