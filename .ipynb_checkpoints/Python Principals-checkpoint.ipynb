{
 "cells": [
  {
   "cell_type": "code",
   "execution_count": 1,
   "id": "445839b6",
   "metadata": {},
   "outputs": [],
   "source": [
    "# Compounding "
   ]
  },
  {
   "cell_type": "code",
   "execution_count": 2,
   "id": "a198ca29",
   "metadata": {},
   "outputs": [],
   "source": [
    "PresentValue = 100;\n",
    "Rate = 0.03;\n",
    "Periods = 3;\n",
    "FutureValue = 0;"
   ]
  },
  {
   "cell_type": "code",
   "execution_count": 3,
   "id": "1ca475f6",
   "metadata": {
    "scrolled": true
   },
   "outputs": [],
   "source": [
    "FutureValue = float(PresentValue * (1 + Rate)**Periods)"
   ]
  },
  {
   "cell_type": "code",
   "execution_count": 4,
   "id": "1c79b031",
   "metadata": {},
   "outputs": [
    {
     "name": "stdout",
     "output_type": "stream",
     "text": [
      "109.2727\n"
     ]
    }
   ],
   "source": [
    "print(FutureValue)"
   ]
  },
  {
   "cell_type": "code",
   "execution_count": 5,
   "id": "556cab3b",
   "metadata": {},
   "outputs": [],
   "source": [
    " # Discounting future value"
   ]
  },
  {
   "cell_type": "code",
   "execution_count": 6,
   "id": "dc664e52",
   "metadata": {},
   "outputs": [
    {
     "name": "stdout",
     "output_type": "stream",
     "text": [
      "96.3926\n"
     ]
    }
   ],
   "source": [
    "PresentValue = 0;\n",
    "Rate = 0.045;\n",
    "Periods = 3;\n",
    "FutureValue = 110;\n",
    "\n",
    "PresentValue = float(FutureValue/((1+ Rate)**Periods))\n",
    "\n",
    "print(round(PresentValue,4))"
   ]
  },
  {
   "cell_type": "code",
   "execution_count": 7,
   "id": "637402fa",
   "metadata": {},
   "outputs": [],
   "source": [
    "# Interest Rate"
   ]
  },
  {
   "cell_type": "code",
   "execution_count": 8,
   "id": "c68541f0",
   "metadata": {},
   "outputs": [
    {
     "name": "stdout",
     "output_type": "stream",
     "text": [
      "0.0128\n"
     ]
    }
   ],
   "source": [
    "PresentValue = 90;\n",
    "Rate = 0;\n",
    "Periods = 3;\n",
    "FutureValue = 93.5;\n",
    "\n",
    "rate = float((FutureValue/PresentValue)**(1/Periods) - 1)\n",
    "print(round (rate,4))"
   ]
  },
  {
   "cell_type": "code",
   "execution_count": 9,
   "id": "8f494a6d",
   "metadata": {},
   "outputs": [],
   "source": [
    "# Price Return   NEEDS TO BE CHECKED "
   ]
  },
  {
   "cell_type": "code",
   "execution_count": 10,
   "id": "83e608d5",
   "metadata": {},
   "outputs": [
    {
     "name": "stdout",
     "output_type": "stream",
     "text": [
      "0.17\n"
     ]
    }
   ],
   "source": [
    "PeriodReturn= 0;\n",
    "OldPrice = 50;\n",
    "NewPrice = 56.5;\n",
    "Dividends = 2;\n",
    "\n",
    "PeriodReturn = float((((NewPrice-OldPrice + Dividends)/OldPrice)))\n",
    "print(PeriodReturn)"
   ]
  },
  {
   "cell_type": "code",
   "execution_count": null,
   "id": "c09a749b",
   "metadata": {},
   "outputs": [],
   "source": [
    "#List"
   ]
  },
  {
   "cell_type": "code",
   "execution_count": 21,
   "id": "c3b9bbb7",
   "metadata": {},
   "outputs": [],
   "source": [
    "CashFlow = [100,10,20,50,30,25]"
   ]
  },
  {
   "cell_type": "code",
   "execution_count": 22,
   "id": "697eedba",
   "metadata": {},
   "outputs": [
    {
     "data": {
      "text/plain": [
       "[100, 10, 20, 50, 30, 25]"
      ]
     },
     "execution_count": 22,
     "metadata": {},
     "output_type": "execute_result"
    }
   ],
   "source": [
    "CashFlow"
   ]
  },
  {
   "cell_type": "code",
   "execution_count": 23,
   "id": "f692aea8",
   "metadata": {},
   "outputs": [
    {
     "data": {
      "text/plain": [
       "100"
      ]
     },
     "execution_count": 23,
     "metadata": {},
     "output_type": "execute_result"
    }
   ],
   "source": [
    "CashFlow[0]"
   ]
  },
  {
   "cell_type": "code",
   "execution_count": 24,
   "id": "d602f8a7",
   "metadata": {},
   "outputs": [
    {
     "data": {
      "text/plain": [
       "25"
      ]
     },
     "execution_count": 24,
     "metadata": {},
     "output_type": "execute_result"
    }
   ],
   "source": [
    "CashFlow[-1]"
   ]
  },
  {
   "cell_type": "code",
   "execution_count": 25,
   "id": "81b7291f",
   "metadata": {},
   "outputs": [],
   "source": [
    "#for loop"
   ]
  },
  {
   "cell_type": "code",
   "execution_count": 26,
   "id": "d047a947",
   "metadata": {},
   "outputs": [],
   "source": [
    "#Compound with different income during a period determined by the size of the list "
   ]
  },
  {
   "cell_type": "code",
   "execution_count": 27,
   "id": "2e1ee0b3",
   "metadata": {},
   "outputs": [
    {
     "name": "stdout",
     "output_type": "stream",
     "text": [
      "257.98203553\n"
     ]
    }
   ],
   "source": [
    "rate = 1.03\n",
    "Total = len(CashFlow)\n",
    "Cash = 0 \n",
    "for i in CashFlow:\n",
    "    Total = Total - 1\n",
    "    Cash = (CashFlow[CashFlow.index(i)]*rate**Total) + Cash\n",
    "print(Cash)"
   ]
  },
  {
   "cell_type": "code",
   "execution_count": 28,
   "id": "8ab8a44e",
   "metadata": {},
   "outputs": [],
   "source": [
    "#exchange currency"
   ]
  },
  {
   "cell_type": "code",
   "execution_count": 20,
   "id": "7b4b9e12",
   "metadata": {},
   "outputs": [
    {
     "data": {
      "text/plain": [
       "[86.9565, 8.6957, 17.3913, 43.4783, 26.087, 21.7391]"
      ]
     },
     "execution_count": 20,
     "metadata": {},
     "output_type": "execute_result"
    }
   ],
   "source": [
    "+447367615651CashFlowEU = []\n",
    "for i in CashFlow:\n",
    "    x = round ((i/1.15),4)\n",
    "    CashFlowEU.append((x))\n",
    "CashFlowEU"
   ]
  },
  {
   "cell_type": "code",
   "execution_count": null,
   "id": "ad01a97a",
   "metadata": {},
   "outputs": [],
   "source": [
    "#Present Value"
   ]
  },
  {
   "cell_type": "code",
   "execution_count": 36,
   "id": "5e496b92",
   "metadata": {},
   "outputs": [],
   "source": [
    "PV = 0\n",
    "rate = 1.04\n",
    "aim = [50,60,70,80,100]"
   ]
  },
  {
   "cell_type": "code",
   "execution_count": 37,
   "id": "0c000b1f",
   "metadata": {},
   "outputs": [
    {
     "name": "stdout",
     "output_type": "stream",
     "text": [
      "48.07692307692307\n",
      "103.55029585798815\n",
      "165.78004096495218\n",
      "234.16437624733024\n",
      "316.3570869232654\n"
     ]
    }
   ],
   "source": [
    "for i in range((len(aim))):\n",
    "    PV += aim[i]/ rate **(i+1)\n",
    "    print(PV)\n"
   ]
  },
  {
   "cell_type": "code",
   "execution_count": null,
   "id": "de65f35f",
   "metadata": {},
   "outputs": [],
   "source": [
    "# Net Present Value"
   ]
  },
  {
   "cell_type": "code",
   "execution_count": 15,
   "id": "de194fab",
   "metadata": {},
   "outputs": [],
   "source": [
    "XYZ = [-200,20,50,70,100,50]\n",
    "Initial_Investment = 200\n",
    "rate = 1.06"
   ]
  },
  {
   "cell_type": "code",
   "execution_count": 16,
   "id": "0acf867e",
   "metadata": {},
   "outputs": [
    {
     "name": "stdout",
     "output_type": "stream",
     "text": [
      "38.71337130837991\n"
     ]
    }
   ],
   "source": [
    "NPV = 0\n",
    "for i in range(len(XYZ)):\n",
    "    NPV += (XYZ[i])/ ((rate)**(i))\n",
    "print(NPV)"
   ]
  },
  {
   "cell_type": "code",
   "execution_count": 17,
   "id": "cb062359",
   "metadata": {},
   "outputs": [],
   "source": [
    "XYZ[0]= -250"
   ]
  },
  {
   "cell_type": "code",
   "execution_count": 18,
   "id": "2dc75969",
   "metadata": {},
   "outputs": [
    {
     "name": "stdout",
     "output_type": "stream",
     "text": [
      "-11.286628691620088\n"
     ]
    }
   ],
   "source": [
    "NPV = 0\n",
    "for i in range(len(XYZ)):\n",
    "    NPV += (XYZ[i])/ ((rate)**(i))\n",
    "print(NPV)"
   ]
  },
  {
   "cell_type": "code",
   "execution_count": null,
   "id": "a6eb410e",
   "metadata": {},
   "outputs": [],
   "source": [
    "#Data types"
   ]
  },
  {
   "cell_type": "code",
   "execution_count": 19,
   "id": "a2d4bb3a",
   "metadata": {},
   "outputs": [
    {
     "data": {
      "text/plain": [
       "int"
      ]
     },
     "execution_count": 19,
     "metadata": {},
     "output_type": "execute_result"
    }
   ],
   "source": [
    "type(100)"
   ]
  },
  {
   "cell_type": "code",
   "execution_count": 22,
   "id": "b0660cf8",
   "metadata": {},
   "outputs": [
    {
     "name": "stdout",
     "output_type": "stream",
     "text": [
      "0.3333333333333333\n"
     ]
    },
    {
     "data": {
      "text/plain": [
       "float"
      ]
     },
     "execution_count": 22,
     "metadata": {},
     "output_type": "execute_result"
    }
   ],
   "source": [
    "float = 1/3\n",
    "print(float)#any decimal number\n",
    "type(float)"
   ]
  },
  {
   "cell_type": "code",
   "execution_count": 23,
   "id": "b0e60eba",
   "metadata": {},
   "outputs": [
    {
     "name": "stdout",
     "output_type": "stream",
     "text": [
      "[0, 1, 2, 3]\n"
     ]
    },
    {
     "data": {
      "text/plain": [
       "list"
      ]
     },
     "execution_count": 23,
     "metadata": {},
     "output_type": "execute_result"
    }
   ],
   "source": [
    "list1 = [0,1,2,3]\n",
    "print(list1)\n",
    "type(list1)"
   ]
  },
  {
   "cell_type": "code",
   "execution_count": 24,
   "id": "85d79f61",
   "metadata": {
    "scrolled": true
   },
   "outputs": [
    {
     "name": "stdout",
     "output_type": "stream",
     "text": [
      "range(1, 10)\n"
     ]
    },
    {
     "data": {
      "text/plain": [
       "range"
      ]
     },
     "execution_count": 24,
     "metadata": {},
     "output_type": "execute_result"
    }
   ],
   "source": [
    "n = range(1,10)\n",
    "print(n)\n",
    "type(n)"
   ]
  },
  {
   "cell_type": "code",
   "execution_count": 25,
   "id": "05a3c953",
   "metadata": {},
   "outputs": [
    {
     "data": {
      "text/plain": [
       "builtin_function_or_method"
      ]
     },
     "execution_count": 25,
     "metadata": {},
     "output_type": "execute_result"
    }
   ],
   "source": [
    "type(print)"
   ]
  },
  {
   "cell_type": "code",
   "execution_count": 26,
   "id": "54de7204",
   "metadata": {},
   "outputs": [
    {
     "data": {
      "text/plain": [
       "'Alfonso'"
      ]
     },
     "execution_count": 26,
     "metadata": {},
     "output_type": "execute_result"
    }
   ],
   "source": [
    "\"Alfonso\""
   ]
  },
  {
   "cell_type": "code",
   "execution_count": 27,
   "id": "ccd11f69",
   "metadata": {},
   "outputs": [
    {
     "data": {
      "text/plain": [
       "str"
      ]
     },
     "execution_count": 27,
     "metadata": {},
     "output_type": "execute_result"
    }
   ],
   "source": [
    "type(\"Alfonso\")"
   ]
  },
  {
   "cell_type": "code",
   "execution_count": 28,
   "id": "788528f9",
   "metadata": {},
   "outputs": [],
   "source": [
    "name = \"Alfonso\""
   ]
  },
  {
   "cell_type": "code",
   "execution_count": 30,
   "id": "6dad01aa",
   "metadata": {},
   "outputs": [
    {
     "data": {
      "text/plain": [
       "bool"
      ]
     },
     "execution_count": 30,
     "metadata": {},
     "output_type": "execute_result"
    }
   ],
   "source": [
    "type (True)"
   ]
  },
  {
   "cell_type": "code",
   "execution_count": 34,
   "id": "4fc1f4f4",
   "metadata": {},
   "outputs": [
    {
     "data": {
      "text/plain": [
       "tuple"
      ]
     },
     "execution_count": 34,
     "metadata": {},
     "output_type": "execute_result"
    }
   ],
   "source": [
    "Tuple = (0,1,2,3,4)\n",
    "type(Tuple)"
   ]
  },
  {
   "cell_type": "code",
   "execution_count": null,
   "id": "acde82f2",
   "metadata": {},
   "outputs": [],
   "source": [
    "# Build-in Functions"
   ]
  },
  {
   "cell_type": "code",
   "execution_count": 40,
   "id": "21936952",
   "metadata": {},
   "outputs": [],
   "source": [
    "a,b,c,d= 100,0.03,1,100*1.03 "
   ]
  },
  {
   "cell_type": "code",
   "execution_count": null,
   "id": "6b62eb03",
   "metadata": {},
   "outputs": [],
   "source": [
    "print(a)"
   ]
  },
  {
   "cell_type": "code",
   "execution_count": 41,
   "id": "ad6bb2bb",
   "metadata": {},
   "outputs": [
    {
     "name": "stdout",
     "output_type": "stream",
     "text": [
      "100\n",
      "0.03\n",
      "1\n",
      "103.0\n"
     ]
    }
   ],
   "source": [
    "print(a,b,c,d, sep = \"\\n\")"
   ]
  },
  {
   "cell_type": "code",
   "execution_count": 42,
   "id": "9fee53b8",
   "metadata": {},
   "outputs": [
    {
     "data": {
      "text/plain": [
       "[0, 1, 2, 3]"
      ]
     },
     "execution_count": 42,
     "metadata": {},
     "output_type": "execute_result"
    }
   ],
   "source": [
    "list2 = [0,1,2,3]\n",
    "list2"
   ]
  },
  {
   "cell_type": "code",
   "execution_count": 48,
   "id": "b707aa10",
   "metadata": {},
   "outputs": [
    {
     "name": "stdout",
     "output_type": "stream",
     "text": [
      "4,7\n"
     ]
    }
   ],
   "source": [
    "print(len(list2),len(\"Alfonso\"), sep = \",\")\n"
   ]
  },
  {
   "cell_type": "code",
   "execution_count": 49,
   "id": "b31144d2",
   "metadata": {},
   "outputs": [
    {
     "ename": "TypeError",
     "evalue": "object of type 'int' has no len()",
     "output_type": "error",
     "traceback": [
      "\u001b[0;31m---------------------------------------------------------------------------\u001b[0m",
      "\u001b[0;31mTypeError\u001b[0m                                 Traceback (most recent call last)",
      "\u001b[0;32m/var/folders/zy/br81npcs27v9lfjb520h7t100000gn/T/ipykernel_10887/555445411.py\u001b[0m in \u001b[0;36m<module>\u001b[0;34m\u001b[0m\n\u001b[0;32m----> 1\u001b[0;31m \u001b[0mlen\u001b[0m\u001b[0;34m(\u001b[0m\u001b[0;36m9\u001b[0m\u001b[0;34m)\u001b[0m\u001b[0;34m\u001b[0m\u001b[0;34m\u001b[0m\u001b[0m\n\u001b[0m",
      "\u001b[0;31mTypeError\u001b[0m: object of type 'int' has no len()"
     ]
    }
   ],
   "source": []
  },
  {
   "cell_type": "code",
   "execution_count": null,
   "id": "3fa26a98",
   "metadata": {},
   "outputs": [],
   "source": []
  },
  {
   "cell_type": "code",
   "execution_count": null,
   "id": "1ee97988",
   "metadata": {},
   "outputs": [],
   "source": []
  },
  {
   "cell_type": "code",
   "execution_count": null,
   "id": "ea839ded",
   "metadata": {},
   "outputs": [],
   "source": []
  },
  {
   "cell_type": "code",
   "execution_count": null,
   "id": "bfbd0eca",
   "metadata": {},
   "outputs": [],
   "source": []
  },
  {
   "cell_type": "code",
   "execution_count": null,
   "id": "f7bb59b8",
   "metadata": {},
   "outputs": [],
   "source": []
  },
  {
   "cell_type": "code",
   "execution_count": null,
   "id": "257c595e",
   "metadata": {},
   "outputs": [],
   "source": []
  },
  {
   "cell_type": "code",
   "execution_count": null,
   "id": "280fb52f",
   "metadata": {},
   "outputs": [],
   "source": []
  },
  {
   "cell_type": "code",
   "execution_count": null,
   "id": "4fab885b",
   "metadata": {},
   "outputs": [],
   "source": []
  },
  {
   "cell_type": "code",
   "execution_count": null,
   "id": "be1f1f28",
   "metadata": {},
   "outputs": [],
   "source": []
  },
  {
   "cell_type": "code",
   "execution_count": null,
   "id": "2605f9f0",
   "metadata": {},
   "outputs": [],
   "source": []
  },
  {
   "cell_type": "code",
   "execution_count": null,
   "id": "8c608157",
   "metadata": {},
   "outputs": [],
   "source": []
  },
  {
   "cell_type": "code",
   "execution_count": null,
   "id": "962bc064",
   "metadata": {},
   "outputs": [],
   "source": []
  },
  {
   "cell_type": "code",
   "execution_count": null,
   "id": "401f902a",
   "metadata": {},
   "outputs": [],
   "source": []
  },
  {
   "cell_type": "code",
   "execution_count": null,
   "id": "c83d1b19",
   "metadata": {},
   "outputs": [],
   "source": []
  },
  {
   "cell_type": "code",
   "execution_count": null,
   "id": "9d87d746",
   "metadata": {},
   "outputs": [],
   "source": []
  },
  {
   "cell_type": "code",
   "execution_count": null,
   "id": "d1eba2bf",
   "metadata": {},
   "outputs": [],
   "source": []
  },
  {
   "cell_type": "code",
   "execution_count": null,
   "id": "6e721c2b",
   "metadata": {},
   "outputs": [],
   "source": []
  }
 ],
 "metadata": {
  "kernelspec": {
   "display_name": "Python 3 (ipykernel)",
   "language": "python",
   "name": "python3"
  },
  "language_info": {
   "codemirror_mode": {
    "name": "ipython",
    "version": 3
   },
   "file_extension": ".py",
   "mimetype": "text/x-python",
   "name": "python",
   "nbconvert_exporter": "python",
   "pygments_lexer": "ipython3",
   "version": "3.9.7"
  }
 },
 "nbformat": 4,
 "nbformat_minor": 5
}
