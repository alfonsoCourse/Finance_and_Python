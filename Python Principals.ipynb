{
 "cells": [
  {
   "cell_type": "code",
   "execution_count": 1,
   "id": "445839b6",
   "metadata": {},
   "outputs": [],
   "source": [
    "# Compounding "
   ]
  },
  {
   "cell_type": "code",
   "execution_count": 2,
   "id": "a198ca29",
   "metadata": {},
   "outputs": [],
   "source": [
    "PresentValue = 100;\n",
    "Rate = 0.03;\n",
    "Periods = 3;\n",
    "FutureValue = 0;"
   ]
  },
  {
   "cell_type": "code",
   "execution_count": 3,
   "id": "1ca475f6",
   "metadata": {
    "scrolled": true
   },
   "outputs": [],
   "source": [
    "FutureValue = float(PresentValue * (1 + Rate)**Periods)"
   ]
  },
  {
   "cell_type": "code",
   "execution_count": 4,
   "id": "1c79b031",
   "metadata": {},
   "outputs": [
    {
     "name": "stdout",
     "output_type": "stream",
     "text": [
      "109.2727\n"
     ]
    }
   ],
   "source": [
    "print(FutureValue)"
   ]
  },
  {
   "cell_type": "code",
   "execution_count": 5,
   "id": "556cab3b",
   "metadata": {},
   "outputs": [],
   "source": [
    " # Discounting future value"
   ]
  },
  {
   "cell_type": "code",
   "execution_count": 6,
   "id": "dc664e52",
   "metadata": {},
   "outputs": [
    {
     "name": "stdout",
     "output_type": "stream",
     "text": [
      "96.3926\n"
     ]
    }
   ],
   "source": [
    "PresentValue = 0;\n",
    "Rate = 0.045;\n",
    "Periods = 3;\n",
    "FutureValue = 110;\n",
    "\n",
    "PresentValue = float(FutureValue/((1+ Rate)**Periods))\n",
    "\n",
    "print(round(PresentValue,4))"
   ]
  },
  {
   "cell_type": "code",
   "execution_count": 7,
   "id": "637402fa",
   "metadata": {},
   "outputs": [],
   "source": [
    "# Interest Rate"
   ]
  },
  {
   "cell_type": "code",
   "execution_count": 8,
   "id": "c68541f0",
   "metadata": {},
   "outputs": [
    {
     "name": "stdout",
     "output_type": "stream",
     "text": [
      "0.0128\n"
     ]
    }
   ],
   "source": [
    "PresentValue = 90;\n",
    "Rate = 0;\n",
    "Periods = 3;\n",
    "FutureValue = 93.5;\n",
    "\n",
    "rate = float((FutureValue/PresentValue)**(1/Periods) - 1)\n",
    "print(round (rate,4))"
   ]
  },
  {
   "cell_type": "code",
   "execution_count": 9,
   "id": "8f494a6d",
   "metadata": {},
   "outputs": [],
   "source": [
    "# Price Return   NEEDS TO BE CHECKED "
   ]
  },
  {
   "cell_type": "code",
   "execution_count": 10,
   "id": "83e608d5",
   "metadata": {},
   "outputs": [
    {
     "name": "stdout",
     "output_type": "stream",
     "text": [
      "0.17\n"
     ]
    }
   ],
   "source": [
    "PeriodReturn= 0;\n",
    "OldPrice = 50;\n",
    "NewPrice = 56.5;\n",
    "Dividends = 2;\n",
    "\n",
    "PeriodReturn = float((((NewPrice-OldPrice + Dividends)/OldPrice)))\n",
    "print(PeriodReturn)"
   ]
  },
  {
   "cell_type": "code",
   "execution_count": null,
   "id": "c09a749b",
   "metadata": {},
   "outputs": [],
   "source": [
    "#List"
   ]
  },
  {
   "cell_type": "code",
   "execution_count": 21,
   "id": "c3b9bbb7",
   "metadata": {},
   "outputs": [],
   "source": [
    "CashFlow = [100,10,20,50,30,25]"
   ]
  },
  {
   "cell_type": "code",
   "execution_count": 22,
   "id": "697eedba",
   "metadata": {},
   "outputs": [
    {
     "data": {
      "text/plain": [
       "[100, 10, 20, 50, 30, 25]"
      ]
     },
     "execution_count": 22,
     "metadata": {},
     "output_type": "execute_result"
    }
   ],
   "source": [
    "CashFlow"
   ]
  },
  {
   "cell_type": "code",
   "execution_count": 23,
   "id": "f692aea8",
   "metadata": {},
   "outputs": [
    {
     "data": {
      "text/plain": [
       "100"
      ]
     },
     "execution_count": 23,
     "metadata": {},
     "output_type": "execute_result"
    }
   ],
   "source": [
    "CashFlow[0]"
   ]
  },
  {
   "cell_type": "code",
   "execution_count": 24,
   "id": "d602f8a7",
   "metadata": {},
   "outputs": [
    {
     "data": {
      "text/plain": [
       "25"
      ]
     },
     "execution_count": 24,
     "metadata": {},
     "output_type": "execute_result"
    }
   ],
   "source": [
    "CashFlow[-1]"
   ]
  },
  {
   "cell_type": "code",
   "execution_count": 25,
   "id": "81b7291f",
   "metadata": {},
   "outputs": [],
   "source": [
    "#for loop"
   ]
  },
  {
   "cell_type": "code",
   "execution_count": 26,
   "id": "d047a947",
   "metadata": {},
   "outputs": [],
   "source": [
    "#Compound with different income during a period determined by the size of the list "
   ]
  },
  {
   "cell_type": "code",
   "execution_count": 27,
   "id": "2e1ee0b3",
   "metadata": {},
   "outputs": [
    {
     "name": "stdout",
     "output_type": "stream",
     "text": [
      "257.98203553\n"
     ]
    }
   ],
   "source": [
    "rate = 1.03\n",
    "Total = len(CashFlow)\n",
    "Cash = 0 \n",
    "for i in CashFlow:\n",
    "    Total = Total - 1\n",
    "    Cash = (CashFlow[CashFlow.index(i)]*rate**Total) + Cash\n",
    "print(Cash)"
   ]
  },
  {
   "cell_type": "code",
   "execution_count": 28,
   "id": "8ab8a44e",
   "metadata": {},
   "outputs": [],
   "source": [
    "#exchange currency"
   ]
  },
  {
   "cell_type": "code",
   "execution_count": 20,
   "id": "7b4b9e12",
   "metadata": {},
   "outputs": [
    {
     "data": {
      "text/plain": [
       "[86.9565, 8.6957, 17.3913, 43.4783, 26.087, 21.7391]"
      ]
     },
     "execution_count": 20,
     "metadata": {},
     "output_type": "execute_result"
    }
   ],
   "source": [
    "CashFlowEU = []\n",
    "for i in CashFlow:\n",
    "    x = round ((i/1.15),4)\n",
    "    CashFlowEU.append((x))\n",
    "CashFlowEU"
   ]
  },
  {
   "cell_type": "code",
   "execution_count": null,
   "id": "ad01a97a",
   "metadata": {},
   "outputs": [],
   "source": [
    "#Present Value"
   ]
  },
  {
   "cell_type": "code",
   "execution_count": 36,
   "id": "5e496b92",
   "metadata": {},
   "outputs": [],
   "source": [
    "PV = 0\n",
    "rate = 1.04\n",
    "aim = [50,60,70,80,100]"
   ]
  },
  {
   "cell_type": "code",
   "execution_count": 37,
   "id": "0c000b1f",
   "metadata": {},
   "outputs": [
    {
     "name": "stdout",
     "output_type": "stream",
     "text": [
      "48.07692307692307\n",
      "103.55029585798815\n",
      "165.78004096495218\n",
      "234.16437624733024\n",
      "316.3570869232654\n"
     ]
    }
   ],
   "source": [
    "for i in range((len(aim))):\n",
    "    PV += aim[i]/ rate **(i+1)\n",
    "    print(PV)\n"
   ]
  },
  {
   "cell_type": "code",
   "execution_count": null,
   "id": "de65f35f",
   "metadata": {},
   "outputs": [],
   "source": []
  },
  {
   "cell_type": "code",
   "execution_count": null,
   "id": "de194fab",
   "metadata": {},
   "outputs": [],
   "source": []
  },
  {
   "cell_type": "code",
   "execution_count": null,
   "id": "0acf867e",
   "metadata": {},
   "outputs": [],
   "source": []
  },
  {
   "cell_type": "code",
   "execution_count": null,
   "id": "cb062359",
   "metadata": {},
   "outputs": [],
   "source": []
  },
  {
   "cell_type": "code",
   "execution_count": null,
   "id": "2dc75969",
   "metadata": {},
   "outputs": [],
   "source": []
  },
  {
   "cell_type": "code",
   "execution_count": null,
   "id": "a6eb410e",
   "metadata": {},
   "outputs": [],
   "source": []
  },
  {
   "cell_type": "code",
   "execution_count": null,
   "id": "a2d4bb3a",
   "metadata": {},
   "outputs": [],
   "source": []
  },
  {
   "cell_type": "code",
   "execution_count": null,
   "id": "b0660cf8",
   "metadata": {},
   "outputs": [],
   "source": []
  },
  {
   "cell_type": "code",
   "execution_count": null,
   "id": "b0e60eba",
   "metadata": {},
   "outputs": [],
   "source": []
  },
  {
   "cell_type": "code",
   "execution_count": null,
   "id": "85d79f61",
   "metadata": {},
   "outputs": [],
   "source": []
  },
  {
   "cell_type": "code",
   "execution_count": null,
   "id": "05a3c953",
   "metadata": {},
   "outputs": [],
   "source": []
  },
  {
   "cell_type": "code",
   "execution_count": null,
   "id": "9d87d746",
   "metadata": {},
   "outputs": [],
   "source": []
  },
  {
   "cell_type": "code",
   "execution_count": null,
   "id": "d1eba2bf",
   "metadata": {},
   "outputs": [],
   "source": []
  },
  {
   "cell_type": "code",
   "execution_count": null,
   "id": "6e721c2b",
   "metadata": {},
   "outputs": [],
   "source": []
  }
 ],
 "metadata": {
  "kernelspec": {
   "display_name": "Python 3 (ipykernel)",
   "language": "python",
   "name": "python3"
  },
  "language_info": {
   "codemirror_mode": {
    "name": "ipython",
    "version": 3
   },
   "file_extension": ".py",
   "mimetype": "text/x-python",
   "name": "python",
   "nbconvert_exporter": "python",
   "pygments_lexer": "ipython3",
   "version": "3.9.7"
  }
 },
 "nbformat": 4,
 "nbformat_minor": 5
}
