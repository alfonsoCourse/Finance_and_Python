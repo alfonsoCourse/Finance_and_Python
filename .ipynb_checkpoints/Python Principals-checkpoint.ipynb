{
 "cells": [
  {
   "cell_type": "code",
   "execution_count": 22,
   "id": "445839b6",
   "metadata": {},
   "outputs": [],
   "source": [
    "# Compounding "
   ]
  },
  {
   "cell_type": "code",
   "execution_count": 23,
   "id": "a198ca29",
   "metadata": {},
   "outputs": [],
   "source": [
    "PresentValue = 100;\n",
    "Rate = 0.03;\n",
    "Periods = 3;\n",
    "FutureValue = 0;"
   ]
  },
  {
   "cell_type": "code",
   "execution_count": 24,
   "id": "1ca475f6",
   "metadata": {
    "scrolled": true
   },
   "outputs": [],
   "source": [
    "FutureValue = float(PresentValue * (1 + Rate)**Periods)"
   ]
  },
  {
   "cell_type": "code",
   "execution_count": 25,
   "id": "1c79b031",
   "metadata": {},
   "outputs": [
    {
     "name": "stdout",
     "output_type": "stream",
     "text": [
      "109.2727\n"
     ]
    }
   ],
   "source": [
    "print(FutureValue)"
   ]
  },
  {
   "cell_type": "code",
   "execution_count": 26,
   "id": "556cab3b",
   "metadata": {},
   "outputs": [],
   "source": [
    " # Discounting future value"
   ]
  },
  {
   "cell_type": "code",
   "execution_count": 27,
   "id": "dc664e52",
   "metadata": {},
   "outputs": [
    {
     "name": "stdout",
     "output_type": "stream",
     "text": [
      "96.3926\n"
     ]
    }
   ],
   "source": [
    "PresentValue = 0;\n",
    "Rate = 0.045;\n",
    "Periods = 3;\n",
    "FutureValue = 110;\n",
    "\n",
    "PresentValue = float(FutureValue/((1+ Rate)**Periods))\n",
    "\n",
    "print(round(PresentValue,4))"
   ]
  },
  {
   "cell_type": "code",
   "execution_count": 28,
   "id": "637402fa",
   "metadata": {},
   "outputs": [],
   "source": [
    "# Interest Rate"
   ]
  },
  {
   "cell_type": "code",
   "execution_count": 29,
   "id": "c68541f0",
   "metadata": {},
   "outputs": [
    {
     "name": "stdout",
     "output_type": "stream",
     "text": [
      "0.0128\n"
     ]
    }
   ],
   "source": [
    "PresentValue = 90;\n",
    "Rate = 0;\n",
    "Periods = 3;\n",
    "FutureValue = 93.5;\n",
    "\n",
    "rate = float((FutureValue/PresentValue)**(1/Periods) - 1)\n",
    "print(round (rate,4))"
   ]
  },
  {
   "cell_type": "code",
   "execution_count": 30,
   "id": "8f494a6d",
   "metadata": {},
   "outputs": [],
   "source": [
    "# Price Return   NEEDS TO BE CHECKED "
   ]
  },
  {
   "cell_type": "code",
   "execution_count": 31,
   "id": "83e608d5",
   "metadata": {},
   "outputs": [
    {
     "name": "stdout",
     "output_type": "stream",
     "text": [
      "0.17\n"
     ]
    }
   ],
   "source": [
    "PeriodReturn= 0;\n",
    "OldPrice = 50;\n",
    "NewPrice = 56.5;\n",
    "Dividends = 2;\n",
    "\n",
    "PeriodReturn = float((((NewPrice-OldPrice + Dividends)/OldPrice)))\n",
    "print(PeriodReturn)"
   ]
  },
  {
   "cell_type": "code",
   "execution_count": 32,
   "id": "c09a749b",
   "metadata": {},
   "outputs": [],
   "source": [
    "#List"
   ]
  },
  {
   "cell_type": "code",
   "execution_count": 33,
   "id": "c3b9bbb7",
   "metadata": {},
   "outputs": [],
   "source": [
    "CashFlow = [100,10,20,50,30,25]"
   ]
  },
  {
   "cell_type": "code",
   "execution_count": 34,
   "id": "697eedba",
   "metadata": {},
   "outputs": [
    {
     "data": {
      "text/plain": [
       "[100, 10, 20, 50, 30, 25]"
      ]
     },
     "execution_count": 34,
     "metadata": {},
     "output_type": "execute_result"
    }
   ],
   "source": [
    "CashFlow"
   ]
  },
  {
   "cell_type": "code",
   "execution_count": 35,
   "id": "f692aea8",
   "metadata": {},
   "outputs": [
    {
     "data": {
      "text/plain": [
       "100"
      ]
     },
     "execution_count": 35,
     "metadata": {},
     "output_type": "execute_result"
    }
   ],
   "source": [
    "CashFlow[0]"
   ]
  },
  {
   "cell_type": "code",
   "execution_count": 36,
   "id": "d602f8a7",
   "metadata": {},
   "outputs": [
    {
     "data": {
      "text/plain": [
       "25"
      ]
     },
     "execution_count": 36,
     "metadata": {},
     "output_type": "execute_result"
    }
   ],
   "source": [
    "CashFlow[-1]"
   ]
  },
  {
   "cell_type": "code",
   "execution_count": 37,
   "id": "81b7291f",
   "metadata": {},
   "outputs": [],
   "source": [
    "#for loop"
   ]
  },
  {
   "cell_type": "code",
   "execution_count": 38,
   "id": "d047a947",
   "metadata": {},
   "outputs": [],
   "source": [
    "#Compound with different income during a period determined by the size of the list "
   ]
  },
  {
   "cell_type": "code",
   "execution_count": 39,
   "id": "2e1ee0b3",
   "metadata": {},
   "outputs": [
    {
     "name": "stdout",
     "output_type": "stream",
     "text": [
      "257.98203553\n"
     ]
    }
   ],
   "source": [
    "rate = 1.03\n",
    "Total = len(CashFlow)\n",
    "Cash = 0 \n",
    "for i in CashFlow:\n",
    "    Total = Total - 1\n",
    "    Cash = (CashFlow[CashFlow.index(i)]*rate**Total) + Cash\n",
    "print(Cash)"
   ]
  },
  {
   "cell_type": "code",
   "execution_count": 19,
   "id": "8ab8a44e",
   "metadata": {},
   "outputs": [],
   "source": [
    "#exchange currency"
   ]
  },
  {
   "cell_type": "code",
   "execution_count": 40,
   "id": "7b4b9e12",
   "metadata": {},
   "outputs": [
    {
     "data": {
      "text/plain": [
       "[86.9565, 8.6957, 17.3913, 43.4783, 26.087, 21.7391]"
      ]
     },
     "execution_count": 40,
     "metadata": {},
     "output_type": "execute_result"
    }
   ],
   "source": [
    "CashFlowEU = []\n",
    "for i in CashFlow:\n",
    "    x = round ((i/1.15),4)\n",
    "    CashFlowEU.append((x))\n",
    "CashFlowEU"
   ]
  },
  {
   "cell_type": "code",
   "execution_count": 41,
   "id": "ad01a97a",
   "metadata": {},
   "outputs": [],
   "source": [
    "#Present Value"
   ]
  },
  {
   "cell_type": "code",
   "execution_count": 42,
   "id": "5e496b92",
   "metadata": {},
   "outputs": [],
   "source": [
    "PV = 0\n",
    "rate = 1.04\n",
    "aim = [50,60,70,80,100]"
   ]
  },
  {
   "cell_type": "code",
   "execution_count": 43,
   "id": "0c000b1f",
   "metadata": {},
   "outputs": [
    {
     "name": "stdout",
     "output_type": "stream",
     "text": [
      "48.07692307692307\n",
      "103.55029585798815\n",
      "165.78004096495218\n",
      "234.16437624733024\n",
      "316.3570869232654\n"
     ]
    }
   ],
   "source": [
    "for i in range((len(aim))):\n",
    "    PV += aim[i]/ rate **(i+1)\n",
    "    print(PV)\n"
   ]
  },
  {
   "cell_type": "code",
   "execution_count": 44,
   "id": "de65f35f",
   "metadata": {},
   "outputs": [],
   "source": [
    "# Net Present Value"
   ]
  },
  {
   "cell_type": "code",
   "execution_count": 45,
   "id": "de194fab",
   "metadata": {},
   "outputs": [],
   "source": [
    "XYZ = [-200,20,50,70,100,50]\n",
    "Initial_Investment = 200\n",
    "rate = 1.06"
   ]
  },
  {
   "cell_type": "code",
   "execution_count": 46,
   "id": "0acf867e",
   "metadata": {},
   "outputs": [
    {
     "name": "stdout",
     "output_type": "stream",
     "text": [
      "38.71337130837991\n"
     ]
    }
   ],
   "source": [
    "NPV = 0\n",
    "for i in range(len(XYZ)):\n",
    "    NPV += (XYZ[i])/ ((rate)**(i))\n",
    "print(NPV)"
   ]
  },
  {
   "cell_type": "code",
   "execution_count": 47,
   "id": "cb062359",
   "metadata": {},
   "outputs": [],
   "source": [
    "XYZ[0]= -250"
   ]
  },
  {
   "cell_type": "code",
   "execution_count": 48,
   "id": "2dc75969",
   "metadata": {},
   "outputs": [
    {
     "name": "stdout",
     "output_type": "stream",
     "text": [
      "-11.286628691620088\n"
     ]
    }
   ],
   "source": [
    "NPV = 0\n",
    "for i in range(len(XYZ)):\n",
    "    NPV += (XYZ[i])/ ((rate)**(i))\n",
    "print(NPV)"
   ]
  },
  {
   "cell_type": "code",
   "execution_count": 49,
   "id": "a6eb410e",
   "metadata": {},
   "outputs": [],
   "source": [
    "#Data types"
   ]
  },
  {
   "cell_type": "code",
   "execution_count": 50,
   "id": "a2d4bb3a",
   "metadata": {},
   "outputs": [
    {
     "data": {
      "text/plain": [
       "int"
      ]
     },
     "execution_count": 50,
     "metadata": {},
     "output_type": "execute_result"
    }
   ],
   "source": [
    "type(100)"
   ]
  },
  {
   "cell_type": "code",
   "execution_count": 51,
   "id": "b0660cf8",
   "metadata": {},
   "outputs": [
    {
     "name": "stdout",
     "output_type": "stream",
     "text": [
      "0.3333333333333333\n"
     ]
    },
    {
     "data": {
      "text/plain": [
       "float"
      ]
     },
     "execution_count": 51,
     "metadata": {},
     "output_type": "execute_result"
    }
   ],
   "source": [
    "float = 1/3\n",
    "print(float)#any decimal number\n",
    "type(float)"
   ]
  },
  {
   "cell_type": "code",
   "execution_count": 52,
   "id": "b0e60eba",
   "metadata": {},
   "outputs": [
    {
     "name": "stdout",
     "output_type": "stream",
     "text": [
      "[0, 1, 2, 3]\n"
     ]
    },
    {
     "data": {
      "text/plain": [
       "list"
      ]
     },
     "execution_count": 52,
     "metadata": {},
     "output_type": "execute_result"
    }
   ],
   "source": [
    "list1 = [0,1,2,3]\n",
    "print(list1)\n",
    "type(list1)"
   ]
  },
  {
   "cell_type": "code",
   "execution_count": 53,
   "id": "85d79f61",
   "metadata": {
    "scrolled": true
   },
   "outputs": [
    {
     "name": "stdout",
     "output_type": "stream",
     "text": [
      "range(1, 10)\n"
     ]
    },
    {
     "data": {
      "text/plain": [
       "range"
      ]
     },
     "execution_count": 53,
     "metadata": {},
     "output_type": "execute_result"
    }
   ],
   "source": [
    "n = range(1,10)\n",
    "print(n)\n",
    "type(n)"
   ]
  },
  {
   "cell_type": "code",
   "execution_count": 54,
   "id": "05a3c953",
   "metadata": {},
   "outputs": [
    {
     "data": {
      "text/plain": [
       "builtin_function_or_method"
      ]
     },
     "execution_count": 54,
     "metadata": {},
     "output_type": "execute_result"
    }
   ],
   "source": [
    "type(print)"
   ]
  },
  {
   "cell_type": "code",
   "execution_count": 55,
   "id": "0f21cef9",
   "metadata": {},
   "outputs": [
    {
     "data": {
      "text/plain": [
       "'Alfonso'"
      ]
     },
     "execution_count": 55,
     "metadata": {},
     "output_type": "execute_result"
    }
   ],
   "source": [
    "\"Alfonso\""
   ]
  },
  {
   "cell_type": "code",
   "execution_count": 56,
   "id": "83052cfc",
   "metadata": {},
   "outputs": [
    {
     "data": {
      "text/plain": [
       "str"
      ]
     },
     "execution_count": 56,
     "metadata": {},
     "output_type": "execute_result"
    }
   ],
   "source": [
    "type(\"Alfonso\")"
   ]
  },
  {
   "cell_type": "code",
   "execution_count": 57,
   "id": "1410ec13",
   "metadata": {},
   "outputs": [],
   "source": [
    "name = \"Alfonso\""
   ]
  },
  {
   "cell_type": "code",
   "execution_count": 58,
   "id": "c4e62b3c",
   "metadata": {},
   "outputs": [
    {
     "data": {
      "text/plain": [
       "bool"
      ]
     },
     "execution_count": 58,
     "metadata": {},
     "output_type": "execute_result"
    }
   ],
   "source": [
    "type (True)"
   ]
  },
  {
   "cell_type": "code",
   "execution_count": 59,
   "id": "7f603c97",
   "metadata": {},
   "outputs": [
    {
     "data": {
      "text/plain": [
       "tuple"
      ]
     },
     "execution_count": 59,
     "metadata": {},
     "output_type": "execute_result"
    }
   ],
   "source": [
    "Tuple = (0,1,2,3,4)\n",
    "type(Tuple)"
   ]
  },
  {
   "cell_type": "code",
   "execution_count": 60,
   "id": "72d8eae9",
   "metadata": {},
   "outputs": [],
   "source": [
    "# Build-in Functions"
   ]
  },
  {
   "cell_type": "code",
   "execution_count": 61,
   "id": "c9873f14",
   "metadata": {},
   "outputs": [],
   "source": [
    "a,b,c,d= 100,0.03,1,100*1.03 "
   ]
  },
  {
   "cell_type": "code",
   "execution_count": 62,
   "id": "61145adc",
   "metadata": {},
   "outputs": [
    {
     "name": "stdout",
     "output_type": "stream",
     "text": [
      "100\n"
     ]
    }
   ],
   "source": [
    "print(a)"
   ]
  },
  {
   "cell_type": "code",
   "execution_count": 63,
   "id": "0b8cfee4",
   "metadata": {},
   "outputs": [
    {
     "name": "stdout",
     "output_type": "stream",
     "text": [
      "100\n",
      "0.03\n",
      "1\n",
      "103.0\n"
     ]
    }
   ],
   "source": [
    "print(a,b,c,d, sep = \"\\n\")"
   ]
  },
  {
   "cell_type": "code",
   "execution_count": 64,
   "id": "fa0dc125",
   "metadata": {},
   "outputs": [
    {
     "data": {
      "text/plain": [
       "[0, 1, 2, 3]"
      ]
     },
     "execution_count": 64,
     "metadata": {},
     "output_type": "execute_result"
    }
   ],
   "source": [
    "list2 = [0,1,2,3]\n",
    "list2"
   ]
  },
  {
   "cell_type": "code",
   "execution_count": 65,
   "id": "b25de4b0",
   "metadata": {},
   "outputs": [
    {
     "name": "stdout",
     "output_type": "stream",
     "text": [
      "4,7\n"
     ]
    }
   ],
   "source": [
    "print(len(list2),len(\"Alfonso\"), sep = \",\")\n"
   ]
  },
  {
   "cell_type": "code",
   "execution_count": 66,
   "id": "dda49fa0",
   "metadata": {},
   "outputs": [
    {
     "name": "stdout",
     "output_type": "stream",
     "text": [
      "Sum , Min and Max : \n",
      " * 6\n",
      " * 0\n",
      " * 3\n"
     ]
    }
   ],
   "source": [
    "print(\"Sum , Min and Max : \",str(sum(list2)),str(min(list2)),str(max(list2)), sep = \"\\n * \")"
   ]
  },
  {
   "cell_type": "code",
   "execution_count": 67,
   "id": "06795df1",
   "metadata": {},
   "outputs": [
    {
     "data": {
      "text/plain": [
       "'F'"
      ]
     },
     "execution_count": 67,
     "metadata": {},
     "output_type": "execute_result"
    }
   ],
   "source": [
    "min(\"Facebook\")# Capital letters goes first"
   ]
  },
  {
   "cell_type": "code",
   "execution_count": 68,
   "id": "02c7b75d",
   "metadata": {},
   "outputs": [
    {
     "data": {
      "text/plain": [
       "'a'"
      ]
     },
     "execution_count": 68,
     "metadata": {},
     "output_type": "execute_result"
    }
   ],
   "source": [
    "min(\"facebook\")"
   ]
  },
  {
   "cell_type": "code",
   "execution_count": 69,
   "id": "b42994d2",
   "metadata": {},
   "outputs": [],
   "source": [
    "#https://docs.python.org/3.9/library/functions.html#exec"
   ]
  },
  {
   "cell_type": "code",
   "execution_count": 70,
   "id": "4e527832",
   "metadata": {},
   "outputs": [
    {
     "data": {
      "text/plain": [
       "7"
      ]
     },
     "execution_count": 70,
     "metadata": {},
     "output_type": "execute_result"
    }
   ],
   "source": [
    "a.bit_length()"
   ]
  },
  {
   "cell_type": "code",
   "execution_count": 71,
   "id": "0ac0c58b",
   "metadata": {},
   "outputs": [
    {
     "data": {
      "text/plain": [
       "'0.10'"
      ]
     },
     "execution_count": 71,
     "metadata": {},
     "output_type": "execute_result"
    }
   ],
   "source": [
    "format(0.1, \".2f\")"
   ]
  },
  {
   "cell_type": "code",
   "execution_count": 72,
   "id": "bc840e9a",
   "metadata": {},
   "outputs": [
    {
     "data": {
      "text/plain": [
       "0.1"
      ]
     },
     "execution_count": 72,
     "metadata": {},
     "output_type": "execute_result"
    }
   ],
   "source": [
    "round(0.1,1)"
   ]
  },
  {
   "cell_type": "code",
   "execution_count": 73,
   "id": "ccd81ce8",
   "metadata": {},
   "outputs": [],
   "source": [
    "#Lists"
   ]
  },
  {
   "cell_type": "code",
   "execution_count": 74,
   "id": "bc2d1ea6",
   "metadata": {},
   "outputs": [
    {
     "data": {
      "text/plain": [
       "[0, 1, 2, 3]"
      ]
     },
     "execution_count": 74,
     "metadata": {},
     "output_type": "execute_result"
    }
   ],
   "source": [
    "list1"
   ]
  },
  {
   "cell_type": "code",
   "execution_count": 75,
   "id": "6ad63bec",
   "metadata": {},
   "outputs": [
    {
     "name": "stdout",
     "output_type": "stream",
     "text": [
      "[0, 1, 2, 3, 0, 1, 2, 3, 0, 1, 2, 3, 0, 1, 2, 3]\n"
     ]
    }
   ],
   "source": [
    "print(list1 * 4)"
   ]
  },
  {
   "cell_type": "code",
   "execution_count": 76,
   "id": "05aca89d",
   "metadata": {},
   "outputs": [
    {
     "data": {
      "text/plain": [
       "[0, 1, 2, 3, 4]"
      ]
     },
     "execution_count": 76,
     "metadata": {},
     "output_type": "execute_result"
    }
   ],
   "source": [
    "list1.append(4)\n",
    "list1"
   ]
  },
  {
   "cell_type": "code",
   "execution_count": 77,
   "id": "bfc3a78a",
   "metadata": {},
   "outputs": [
    {
     "name": "stdout",
     "output_type": "stream",
     "text": [
      "[0.0, 1.1, 2.2, 3.3000000000000003, 4.4]\n"
     ]
    }
   ],
   "source": [
    "# multiply each element\n",
    "empty_list=[]\n",
    "for i in list1:\n",
    "    new = i* 1.1\n",
    "    empty_list.append(new)\n",
    "print(empty_list)"
   ]
  },
  {
   "cell_type": "code",
   "execution_count": 78,
   "id": "2f406e2a",
   "metadata": {},
   "outputs": [
    {
     "name": "stdout",
     "output_type": "stream",
     "text": [
      "[-20, -19, -18, -17, -16]\n"
     ]
    }
   ],
   "source": [
    "# take out 20 of each element\n",
    "empty_list=[]\n",
    "for i in list1:\n",
    "    new = i -20\n",
    "    empty_list.append(new)\n",
    "print(empty_list)"
   ]
  },
  {
   "cell_type": "code",
   "execution_count": 79,
   "id": "f3352270",
   "metadata": {},
   "outputs": [],
   "source": [
    " #Slicing Lists"
   ]
  },
  {
   "cell_type": "code",
   "execution_count": 80,
   "id": "3711db04",
   "metadata": {},
   "outputs": [
    {
     "data": {
      "text/plain": [
       "[-200, 20, 50, 70, 100, 50]"
      ]
     },
     "execution_count": 80,
     "metadata": {},
     "output_type": "execute_result"
    }
   ],
   "source": [
    "XYZ = [-200,20,50,70,100,50]\n",
    "XYZ"
   ]
  },
  {
   "cell_type": "code",
   "execution_count": 81,
   "id": "6843a928",
   "metadata": {},
   "outputs": [
    {
     "data": {
      "text/plain": [
       "[20, 50, 70]"
      ]
     },
     "execution_count": 81,
     "metadata": {},
     "output_type": "execute_result"
    }
   ],
   "source": [
    "# select the elements from 1 until 4\n",
    "XYZ [1:4]"
   ]
  },
  {
   "cell_type": "code",
   "execution_count": 82,
   "id": "2744b8a6",
   "metadata": {},
   "outputs": [
    {
     "data": {
      "text/plain": [
       "[-200, 20, 50]"
      ]
     },
     "execution_count": 82,
     "metadata": {},
     "output_type": "execute_result"
    }
   ],
   "source": [
    "XYZ[:3]"
   ]
  },
  {
   "cell_type": "code",
   "execution_count": 83,
   "id": "c0e18a60",
   "metadata": {},
   "outputs": [
    {
     "data": {
      "text/plain": [
       "[-200, 20, 50, 70, 100, 50]"
      ]
     },
     "execution_count": 83,
     "metadata": {},
     "output_type": "execute_result"
    }
   ],
   "source": [
    "XYZ[:]"
   ]
  },
  {
   "cell_type": "code",
   "execution_count": 84,
   "id": "6097c3c2",
   "metadata": {},
   "outputs": [
    {
     "data": {
      "text/plain": [
       "[-200, 20, 50, 70, 100]"
      ]
     },
     "execution_count": 84,
     "metadata": {},
     "output_type": "execute_result"
    }
   ],
   "source": [
    "XYZ[:-1]"
   ]
  },
  {
   "cell_type": "code",
   "execution_count": 85,
   "id": "3cfd249f",
   "metadata": {},
   "outputs": [
    {
     "data": {
      "text/plain": [
       "[-200, 50, 100]"
      ]
     },
     "execution_count": 85,
     "metadata": {},
     "output_type": "execute_result"
    }
   ],
   "source": [
    "#Going every 2 jumps \n",
    "XYZ[::2]"
   ]
  },
  {
   "cell_type": "code",
   "execution_count": 86,
   "id": "2aca54c6",
   "metadata": {},
   "outputs": [],
   "source": [
    "#Manipulate elements in list"
   ]
  },
  {
   "cell_type": "code",
   "execution_count": 87,
   "id": "d3ebc7e6",
   "metadata": {},
   "outputs": [
    {
     "data": {
      "text/plain": [
       "[1973, 20, 50, 70, 100, 50]"
      ]
     },
     "execution_count": 87,
     "metadata": {},
     "output_type": "execute_result"
    }
   ],
   "source": [
    "XYZ[0] = 1973\n",
    "XYZ"
   ]
  },
  {
   "cell_type": "code",
   "execution_count": 88,
   "id": "a8d3f335",
   "metadata": {},
   "outputs": [],
   "source": [
    "XYZ[1:]= [70,70,7,0]"
   ]
  },
  {
   "cell_type": "code",
   "execution_count": 114,
   "id": "2f59280e",
   "metadata": {},
   "outputs": [
    {
     "data": {
      "text/plain": [
       "[0, 1, 2, 3, 4, 5]"
      ]
     },
     "execution_count": 114,
     "metadata": {},
     "output_type": "execute_result"
    }
   ],
   "source": [
    "XYZ = list(range(6))\n",
    "XYZ"
   ]
  },
  {
   "cell_type": "code",
   "execution_count": 90,
   "id": "d16f1043",
   "metadata": {},
   "outputs": [
    {
     "data": {
      "text/plain": [
       "[5, 4, 3, 2, 1, 0]"
      ]
     },
     "execution_count": 90,
     "metadata": {},
     "output_type": "execute_result"
    }
   ],
   "source": [
    "XYZ[::-1]"
   ]
  },
  {
   "cell_type": "code",
   "execution_count": 91,
   "id": "b3de9950",
   "metadata": {},
   "outputs": [
    {
     "data": {
      "text/plain": [
       "[0, 1, 2, 3, 4, 5]"
      ]
     },
     "execution_count": 91,
     "metadata": {},
     "output_type": "execute_result"
    }
   ],
   "source": [
    "XYZ"
   ]
  },
  {
   "cell_type": "code",
   "execution_count": 92,
   "id": "3d9ffbc3",
   "metadata": {},
   "outputs": [
    {
     "data": {
      "text/plain": [
       "[5, 4, 3, 2, 1, 0]"
      ]
     },
     "execution_count": 92,
     "metadata": {},
     "output_type": "execute_result"
    }
   ],
   "source": [
    "XYZ = XYZ[::-1]\n",
    "XYZ"
   ]
  },
  {
   "cell_type": "code",
   "execution_count": 93,
   "id": "3a656950",
   "metadata": {},
   "outputs": [],
   "source": [
    "XYZ.reverse()"
   ]
  },
  {
   "cell_type": "code",
   "execution_count": 94,
   "id": "0a93e48c",
   "metadata": {},
   "outputs": [
    {
     "data": {
      "text/plain": [
       "[0, 1, 2, 3, 4, 5]"
      ]
     },
     "execution_count": 94,
     "metadata": {},
     "output_type": "execute_result"
    }
   ],
   "source": [
    "XYZ"
   ]
  },
  {
   "cell_type": "code",
   "execution_count": 96,
   "id": "1a09c524",
   "metadata": {},
   "outputs": [
    {
     "data": {
      "text/plain": [
       "[0, 1, 2, 3, 4, 5, 10]"
      ]
     },
     "execution_count": 96,
     "metadata": {},
     "output_type": "execute_result"
    }
   ],
   "source": [
    "XYZ.append(10)\n",
    "XYZ"
   ]
  },
  {
   "cell_type": "code",
   "execution_count": 101,
   "id": "8b988936",
   "metadata": {},
   "outputs": [
    {
     "data": {
      "text/plain": [
       "[0, 1, 2, 3, 4, 5, 10, 20, 20, 20]"
      ]
     },
     "execution_count": 101,
     "metadata": {},
     "output_type": "execute_result"
    }
   ],
   "source": [
    "XYZ = XYZ + [20]\n",
    "XYZ"
   ]
  },
  {
   "cell_type": "code",
   "execution_count": 102,
   "id": "7a84d3e4",
   "metadata": {},
   "outputs": [],
   "source": [
    "XYZ = XYZ + [5 ,2 ] "
   ]
  },
  {
   "cell_type": "code",
   "execution_count": 103,
   "id": "77daabdb",
   "metadata": {},
   "outputs": [
    {
     "data": {
      "text/plain": [
       "[0, 1, 2, 3, 4, 5, 10, 20, 20, 20, 5, 2]"
      ]
     },
     "execution_count": 103,
     "metadata": {},
     "output_type": "execute_result"
    }
   ],
   "source": [
    "XYZ"
   ]
  },
  {
   "cell_type": "code",
   "execution_count": 106,
   "id": "4af836dc",
   "metadata": {},
   "outputs": [
    {
     "data": {
      "text/plain": [
       "[0, 1, 3, 4, 5, 10, 20, 20, 20, 5]"
      ]
     },
     "execution_count": 106,
     "metadata": {},
     "output_type": "execute_result"
    }
   ],
   "source": [
    "XYZ.remove(2)\n",
    "XYZ"
   ]
  },
  {
   "cell_type": "code",
   "execution_count": 109,
   "id": "2521df19",
   "metadata": {},
   "outputs": [],
   "source": [
    "XYZ = XYZ[:-5]"
   ]
  },
  {
   "cell_type": "code",
   "execution_count": 115,
   "id": "03dff3e5",
   "metadata": {},
   "outputs": [
    {
     "data": {
      "text/plain": [
       "[0, 1, 2, 3, 4, 5]"
      ]
     },
     "execution_count": 115,
     "metadata": {},
     "output_type": "execute_result"
    }
   ],
   "source": [
    "XYZ"
   ]
  },
  {
   "cell_type": "code",
   "execution_count": 116,
   "id": "277cbd6d",
   "metadata": {},
   "outputs": [
    {
     "data": {
      "text/plain": [
       "5"
      ]
     },
     "execution_count": 116,
     "metadata": {},
     "output_type": "execute_result"
    }
   ],
   "source": [
    "XYZ.pop()"
   ]
  },
  {
   "cell_type": "code",
   "execution_count": 117,
   "id": "2f693df2",
   "metadata": {},
   "outputs": [
    {
     "data": {
      "text/plain": [
       "[0, 1, 2, 3, 4]"
      ]
     },
     "execution_count": 117,
     "metadata": {},
     "output_type": "execute_result"
    }
   ],
   "source": [
    "XYZ"
   ]
  },
  {
   "cell_type": "code",
   "execution_count": 118,
   "id": "205e40fc",
   "metadata": {},
   "outputs": [],
   "source": [
    "XYZ.insert(2,90)"
   ]
  },
  {
   "cell_type": "code",
   "execution_count": 119,
   "id": "7aed1829",
   "metadata": {},
   "outputs": [
    {
     "data": {
      "text/plain": [
       "[0, 1, 90, 2, 3, 4]"
      ]
     },
     "execution_count": 119,
     "metadata": {},
     "output_type": "execute_result"
    }
   ],
   "source": [
    "XYZ"
   ]
  },
  {
   "cell_type": "code",
   "execution_count": null,
   "id": "c0c1d038",
   "metadata": {},
   "outputs": [],
   "source": []
  },
  {
   "cell_type": "code",
   "execution_count": null,
   "id": "33af7e70",
   "metadata": {},
   "outputs": [],
   "source": []
  },
  {
   "cell_type": "code",
   "execution_count": null,
   "id": "d4fa4f65",
   "metadata": {},
   "outputs": [],
   "source": []
  },
  {
   "cell_type": "code",
   "execution_count": null,
   "id": "2aef61af",
   "metadata": {},
   "outputs": [],
   "source": []
  },
  {
   "cell_type": "code",
   "execution_count": null,
   "id": "f3103b55",
   "metadata": {},
   "outputs": [],
   "source": []
  },
  {
   "cell_type": "code",
   "execution_count": null,
   "id": "e5e4a053",
   "metadata": {},
   "outputs": [],
   "source": []
  },
  {
   "cell_type": "code",
   "execution_count": null,
   "id": "b00da552",
   "metadata": {},
   "outputs": [],
   "source": []
  },
  {
   "cell_type": "code",
   "execution_count": null,
   "id": "819063c9",
   "metadata": {},
   "outputs": [],
   "source": []
  },
  {
   "cell_type": "code",
   "execution_count": null,
   "id": "dce980e4",
   "metadata": {},
   "outputs": [],
   "source": []
  },
  {
   "cell_type": "code",
   "execution_count": null,
   "id": "43e05a27",
   "metadata": {},
   "outputs": [],
   "source": []
  },
  {
   "cell_type": "code",
   "execution_count": null,
   "id": "9175a7a3",
   "metadata": {},
   "outputs": [],
   "source": []
  },
  {
   "cell_type": "code",
   "execution_count": null,
   "id": "7d7fe125",
   "metadata": {},
   "outputs": [],
   "source": []
  },
  {
   "cell_type": "code",
   "execution_count": null,
   "id": "03e1b1cd",
   "metadata": {},
   "outputs": [],
   "source": []
  },
  {
   "cell_type": "code",
   "execution_count": null,
   "id": "f2b80470",
   "metadata": {},
   "outputs": [],
   "source": []
  },
  {
   "cell_type": "code",
   "execution_count": null,
   "id": "2f46ba10",
   "metadata": {},
   "outputs": [],
   "source": []
  },
  {
   "cell_type": "code",
   "execution_count": null,
   "id": "a5b48dbf",
   "metadata": {},
   "outputs": [],
   "source": []
  }
 ],
 "metadata": {
  "kernelspec": {
   "display_name": "Python 3 (ipykernel)",
   "language": "python",
   "name": "python3"
  },
  "language_info": {
   "codemirror_mode": {
    "name": "ipython",
    "version": 3
   },
   "file_extension": ".py",
   "mimetype": "text/x-python",
   "name": "python",
   "nbconvert_exporter": "python",
   "pygments_lexer": "ipython3",
   "version": "3.9.7"
  }
 },
 "nbformat": 4,
 "nbformat_minor": 5
}
